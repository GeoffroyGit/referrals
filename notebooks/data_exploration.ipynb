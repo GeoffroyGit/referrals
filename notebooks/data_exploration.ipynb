{
 "cells": [
  {
   "cell_type": "code",
   "execution_count": 14,
   "id": "a63d22ca",
   "metadata": {},
   "outputs": [],
   "source": [
    "import pandas as pd\n",
    "import matplotlib.pyplot as plt\n",
    "import seaborn as sns"
   ]
  },
  {
   "cell_type": "markdown",
   "id": "22946917",
   "metadata": {},
   "source": [
    "# Load the data"
   ]
  },
  {
   "cell_type": "code",
   "execution_count": 3,
   "id": "9c55fb49",
   "metadata": {},
   "outputs": [],
   "source": [
    "# import the data\n",
    "path = \"../data/\"\n",
    "files = [\n",
    "    path + \"180601_Customer_Info.csv\",\n",
    "    path + \"180601_Referrals_Info.csv\"\n",
    "]\n",
    "dfs = [pd.read_csv(file) for file in files]"
   ]
  },
  {
   "cell_type": "code",
   "execution_count": 5,
   "id": "a9fbdbcc",
   "metadata": {},
   "outputs": [],
   "source": [
    "df_customer, df_referrals = dfs[0], dfs[1]"
   ]
  },
  {
   "cell_type": "code",
   "execution_count": 6,
   "id": "a2393f5e",
   "metadata": {},
   "outputs": [
    {
     "data": {
      "text/html": [
       "<div>\n",
       "<style scoped>\n",
       "    .dataframe tbody tr th:only-of-type {\n",
       "        vertical-align: middle;\n",
       "    }\n",
       "\n",
       "    .dataframe tbody tr th {\n",
       "        vertical-align: top;\n",
       "    }\n",
       "\n",
       "    .dataframe thead th {\n",
       "        text-align: right;\n",
       "    }\n",
       "</style>\n",
       "<table border=\"1\" class=\"dataframe\">\n",
       "  <thead>\n",
       "    <tr style=\"text-align: right;\">\n",
       "      <th></th>\n",
       "      <th>customer_id</th>\n",
       "      <th>sign_up_date</th>\n",
       "      <th>sign_up_channel</th>\n",
       "    </tr>\n",
       "  </thead>\n",
       "  <tbody>\n",
       "    <tr>\n",
       "      <th>0</th>\n",
       "      <td>2543</td>\n",
       "      <td>2021-04-26</td>\n",
       "      <td>Price Comparison Website</td>\n",
       "    </tr>\n",
       "    <tr>\n",
       "      <th>1</th>\n",
       "      <td>2181</td>\n",
       "      <td>2021-07-24</td>\n",
       "      <td>Referral</td>\n",
       "    </tr>\n",
       "    <tr>\n",
       "      <th>2</th>\n",
       "      <td>2399</td>\n",
       "      <td>2020-10-11</td>\n",
       "      <td>Bulb Website</td>\n",
       "    </tr>\n",
       "    <tr>\n",
       "      <th>3</th>\n",
       "      <td>674</td>\n",
       "      <td>2021-04-04</td>\n",
       "      <td>Referral</td>\n",
       "    </tr>\n",
       "    <tr>\n",
       "      <th>4</th>\n",
       "      <td>2332</td>\n",
       "      <td>2021-09-05</td>\n",
       "      <td>Price Comparison Website</td>\n",
       "    </tr>\n",
       "  </tbody>\n",
       "</table>\n",
       "</div>"
      ],
      "text/plain": [
       "   customer_id sign_up_date           sign_up_channel\n",
       "0         2543   2021-04-26  Price Comparison Website\n",
       "1         2181   2021-07-24                  Referral\n",
       "2         2399   2020-10-11              Bulb Website\n",
       "3          674   2021-04-04                  Referral\n",
       "4         2332   2021-09-05  Price Comparison Website"
      ]
     },
     "execution_count": 6,
     "metadata": {},
     "output_type": "execute_result"
    }
   ],
   "source": [
    "df_customer.head()"
   ]
  },
  {
   "cell_type": "code",
   "execution_count": 7,
   "id": "dc7fa038",
   "metadata": {},
   "outputs": [
    {
     "data": {
      "text/html": [
       "<div>\n",
       "<style scoped>\n",
       "    .dataframe tbody tr th:only-of-type {\n",
       "        vertical-align: middle;\n",
       "    }\n",
       "\n",
       "    .dataframe tbody tr th {\n",
       "        vertical-align: top;\n",
       "    }\n",
       "\n",
       "    .dataframe thead th {\n",
       "        text-align: right;\n",
       "    }\n",
       "</style>\n",
       "<table border=\"1\" class=\"dataframe\">\n",
       "  <thead>\n",
       "    <tr style=\"text-align: right;\">\n",
       "      <th></th>\n",
       "      <th>referral_date</th>\n",
       "      <th>referrer_customer_id</th>\n",
       "      <th>sign_up_customer_id</th>\n",
       "    </tr>\n",
       "  </thead>\n",
       "  <tbody>\n",
       "    <tr>\n",
       "      <th>0</th>\n",
       "      <td>2021-07-18</td>\n",
       "      <td>795</td>\n",
       "      <td>1771</td>\n",
       "    </tr>\n",
       "    <tr>\n",
       "      <th>1</th>\n",
       "      <td>2021-04-12</td>\n",
       "      <td>577</td>\n",
       "      <td>1510</td>\n",
       "    </tr>\n",
       "    <tr>\n",
       "      <th>2</th>\n",
       "      <td>2021-07-07</td>\n",
       "      <td>868</td>\n",
       "      <td>1858</td>\n",
       "    </tr>\n",
       "    <tr>\n",
       "      <th>3</th>\n",
       "      <td>2021-10-25</td>\n",
       "      <td>801</td>\n",
       "      <td>1778</td>\n",
       "    </tr>\n",
       "    <tr>\n",
       "      <th>4</th>\n",
       "      <td>2021-08-15</td>\n",
       "      <td>690</td>\n",
       "      <td>1637</td>\n",
       "    </tr>\n",
       "  </tbody>\n",
       "</table>\n",
       "</div>"
      ],
      "text/plain": [
       "  referral_date  referrer_customer_id  sign_up_customer_id\n",
       "0    2021-07-18                   795                 1771\n",
       "1    2021-04-12                   577                 1510\n",
       "2    2021-07-07                   868                 1858\n",
       "3    2021-10-25                   801                 1778\n",
       "4    2021-08-15                   690                 1637"
      ]
     },
     "execution_count": 7,
     "metadata": {},
     "output_type": "execute_result"
    }
   ],
   "source": [
    "df_referrals.head()"
   ]
  },
  {
   "cell_type": "markdown",
   "id": "6deb2c75",
   "metadata": {},
   "source": [
    "# explore referrals table"
   ]
  },
  {
   "cell_type": "code",
   "execution_count": 8,
   "id": "f1f06981",
   "metadata": {},
   "outputs": [
    {
     "name": "stdout",
     "output_type": "stream",
     "text": [
      "<class 'pandas.core.frame.DataFrame'>\n",
      "RangeIndex: 1000 entries, 0 to 999\n",
      "Data columns (total 3 columns):\n",
      " #   Column                Non-Null Count  Dtype \n",
      "---  ------                --------------  ----- \n",
      " 0   referral_date         1000 non-null   object\n",
      " 1   referrer_customer_id  1000 non-null   int64 \n",
      " 2   sign_up_customer_id   1000 non-null   int64 \n",
      "dtypes: int64(2), object(1)\n",
      "memory usage: 23.6+ KB\n"
     ]
    }
   ],
   "source": [
    "df_referrals.info()"
   ]
  },
  {
   "cell_type": "code",
   "execution_count": 11,
   "id": "1b6038f6",
   "metadata": {},
   "outputs": [
    {
     "name": "stdout",
     "output_type": "stream",
     "text": [
      "<class 'pandas.core.frame.DataFrame'>\n",
      "RangeIndex: 1000 entries, 0 to 999\n",
      "Data columns (total 3 columns):\n",
      " #   Column                Non-Null Count  Dtype         \n",
      "---  ------                --------------  -----         \n",
      " 0   referral_date         1000 non-null   datetime64[ns]\n",
      " 1   referrer_customer_id  1000 non-null   int64         \n",
      " 2   sign_up_customer_id   1000 non-null   int64         \n",
      "dtypes: datetime64[ns](1), int64(2)\n",
      "memory usage: 23.6 KB\n"
     ]
    }
   ],
   "source": [
    "# change date to datetime format\n",
    "df_referrals[\"referral_date\"] = pd.to_datetime(df_referrals[\"referral_date\"])\n",
    "df_referrals.info()"
   ]
  },
  {
   "cell_type": "code",
   "execution_count": 16,
   "id": "39b2e87f",
   "metadata": {},
   "outputs": [
    {
     "data": {
      "image/png": "[encoded data removed]",
      "text/plain": [
       "<Figure size 1080x288 with 1 Axes>"
      ]
     },
     "metadata": {
      "needs_background": "light"
     },
     "output_type": "display_data"
    }
   ],
   "source": [
    "plt.figure(figsize=(15,4))\n",
    "sns.histplot(data=df_referrals, x=\"referral_date\");\n",
    "# interesting: many referrals around 2021-07"
   ]
  },
  {
   "cell_type": "code",
   "execution_count": 21,
   "id": "5d9735d5",
   "metadata": {},
   "outputs": [
    {
     "data": {
      "image/png": "[encoded data removed]",
      "text/plain": [
       "<Figure size 1080x288 with 1 Axes>"
      ]
     },
     "metadata": {
      "needs_background": "light"
     },
     "output_type": "display_data"
    }
   ],
   "source": [
    "plt.figure(figsize=(15,4))\n",
    "sns.histplot(data=df_referrals, x=\"referrer_customer_id\", bins=800);\n",
    "# interesting: some guy reffered more than 30 people"
   ]
  },
  {
   "cell_type": "code",
   "execution_count": 28,
   "id": "c71bba10",
   "metadata": {},
   "outputs": [
    {
     "data": {
      "text/html": [
       "<div>\n",
       "<style scoped>\n",
       "    .dataframe tbody tr th:only-of-type {\n",
       "        vertical-align: middle;\n",
       "    }\n",
       "\n",
       "    .dataframe tbody tr th {\n",
       "        vertical-align: top;\n",
       "    }\n",
       "\n",
       "    .dataframe thead th {\n",
       "        text-align: right;\n",
       "    }\n",
       "</style>\n",
       "<table border=\"1\" class=\"dataframe\">\n",
       "  <thead>\n",
       "    <tr style=\"text-align: right;\">\n",
       "      <th></th>\n",
       "      <th>referrer_customer_id</th>\n",
       "      <th>count</th>\n",
       "    </tr>\n",
       "  </thead>\n",
       "  <tbody>\n",
       "    <tr>\n",
       "      <th>8</th>\n",
       "      <td>8</td>\n",
       "      <td>34</td>\n",
       "    </tr>\n",
       "    <tr>\n",
       "      <th>6</th>\n",
       "      <td>6</td>\n",
       "      <td>11</td>\n",
       "    </tr>\n",
       "    <tr>\n",
       "      <th>36</th>\n",
       "      <td>36</td>\n",
       "      <td>9</td>\n",
       "    </tr>\n",
       "    <tr>\n",
       "      <th>10</th>\n",
       "      <td>10</td>\n",
       "      <td>9</td>\n",
       "    </tr>\n",
       "    <tr>\n",
       "      <th>37</th>\n",
       "      <td>37</td>\n",
       "      <td>8</td>\n",
       "    </tr>\n",
       "  </tbody>\n",
       "</table>\n",
       "</div>"
      ],
      "text/plain": [
       "    referrer_customer_id  count\n",
       "8                      8     34\n",
       "6                      6     11\n",
       "36                    36      9\n",
       "10                    10      9\n",
       "37                    37      8"
      ]
     },
     "execution_count": 28,
     "metadata": {},
     "output_type": "execute_result"
    }
   ],
   "source": [
    "df_referrals_count = df_referrals.groupby(by=\"referrer_customer_id\", as_index=False).count().drop(columns=\"sign_up_customer_id\")\\\n",
    ".rename(columns={\"referral_date\" : \"count\"}).sort_values(\"count\", ascending=False)\n",
    "df_referrals_count.head()"
   ]
  },
  {
   "cell_type": "code",
   "execution_count": 31,
   "id": "7f3166b8",
   "metadata": {},
   "outputs": [
    {
     "data": {
      "text/html": [
       "<div>\n",
       "<style scoped>\n",
       "    .dataframe tbody tr th:only-of-type {\n",
       "        vertical-align: middle;\n",
       "    }\n",
       "\n",
       "    .dataframe tbody tr th {\n",
       "        vertical-align: top;\n",
       "    }\n",
       "\n",
       "    .dataframe thead th {\n",
       "        text-align: right;\n",
       "    }\n",
       "</style>\n",
       "<table border=\"1\" class=\"dataframe\">\n",
       "  <thead>\n",
       "    <tr style=\"text-align: right;\">\n",
       "      <th></th>\n",
       "      <th>count</th>\n",
       "      <th>referrer_customer_id</th>\n",
       "    </tr>\n",
       "  </thead>\n",
       "  <tbody>\n",
       "    <tr>\n",
       "      <th>10</th>\n",
       "      <td>34</td>\n",
       "      <td>1</td>\n",
       "    </tr>\n",
       "    <tr>\n",
       "      <th>9</th>\n",
       "      <td>11</td>\n",
       "      <td>1</td>\n",
       "    </tr>\n",
       "    <tr>\n",
       "      <th>8</th>\n",
       "      <td>9</td>\n",
       "      <td>2</td>\n",
       "    </tr>\n",
       "    <tr>\n",
       "      <th>7</th>\n",
       "      <td>8</td>\n",
       "      <td>1</td>\n",
       "    </tr>\n",
       "    <tr>\n",
       "      <th>6</th>\n",
       "      <td>7</td>\n",
       "      <td>1</td>\n",
       "    </tr>\n",
       "    <tr>\n",
       "      <th>5</th>\n",
       "      <td>6</td>\n",
       "      <td>2</td>\n",
       "    </tr>\n",
       "    <tr>\n",
       "      <th>4</th>\n",
       "      <td>5</td>\n",
       "      <td>1</td>\n",
       "    </tr>\n",
       "    <tr>\n",
       "      <th>3</th>\n",
       "      <td>4</td>\n",
       "      <td>6</td>\n",
       "    </tr>\n",
       "    <tr>\n",
       "      <th>2</th>\n",
       "      <td>3</td>\n",
       "      <td>4</td>\n",
       "    </tr>\n",
       "    <tr>\n",
       "      <th>1</th>\n",
       "      <td>2</td>\n",
       "      <td>19</td>\n",
       "    </tr>\n",
       "    <tr>\n",
       "      <th>0</th>\n",
       "      <td>1</td>\n",
       "      <td>831</td>\n",
       "    </tr>\n",
       "  </tbody>\n",
       "</table>\n",
       "</div>"
      ],
      "text/plain": [
       "    count  referrer_customer_id\n",
       "10     34                     1\n",
       "9      11                     1\n",
       "8       9                     2\n",
       "7       8                     1\n",
       "6       7                     1\n",
       "5       6                     2\n",
       "4       5                     1\n",
       "3       4                     6\n",
       "2       3                     4\n",
       "1       2                    19\n",
       "0       1                   831"
      ]
     },
     "execution_count": 31,
     "metadata": {},
     "output_type": "execute_result"
    }
   ],
   "source": [
    "df_referrals_count.groupby(by=\"count\", as_index=False).count().sort_values(\"count\", ascending=False)\n",
    "# interesting: one guy referred 34 people, one referred 11 people\n",
    "# but most people only refer one or two people only"
   ]
  },
  {
   "cell_type": "code",
   "execution_count": 34,
   "id": "a943f4ff",
   "metadata": {},
   "outputs": [
    {
     "data": {
      "text/plain": [
       "referral_date           0\n",
       "referrer_customer_id    0\n",
       "sign_up_customer_id     0\n",
       "dtype: int64"
      ]
     },
     "execution_count": 34,
     "metadata": {},
     "output_type": "execute_result"
    }
   ],
   "source": [
    "# check if the table is clean\n",
    "df_referrals.isna().sum()"
   ]
  },
  {
   "cell_type": "markdown",
   "id": "fc6ff98f",
   "metadata": {},
   "source": [
    "# explore customer table"
   ]
  },
  {
   "cell_type": "code",
   "execution_count": 32,
   "id": "34736da2",
   "metadata": {},
   "outputs": [
    {
     "data": {
      "text/html": [
       "<div>\n",
       "<style scoped>\n",
       "    .dataframe tbody tr th:only-of-type {\n",
       "        vertical-align: middle;\n",
       "    }\n",
       "\n",
       "    .dataframe tbody tr th {\n",
       "        vertical-align: top;\n",
       "    }\n",
       "\n",
       "    .dataframe thead th {\n",
       "        text-align: right;\n",
       "    }\n",
       "</style>\n",
       "<table border=\"1\" class=\"dataframe\">\n",
       "  <thead>\n",
       "    <tr style=\"text-align: right;\">\n",
       "      <th></th>\n",
       "      <th>customer_id</th>\n",
       "      <th>sign_up_date</th>\n",
       "      <th>sign_up_channel</th>\n",
       "    </tr>\n",
       "  </thead>\n",
       "  <tbody>\n",
       "    <tr>\n",
       "      <th>0</th>\n",
       "      <td>2543</td>\n",
       "      <td>2021-04-26</td>\n",
       "      <td>Price Comparison Website</td>\n",
       "    </tr>\n",
       "    <tr>\n",
       "      <th>1</th>\n",
       "      <td>2181</td>\n",
       "      <td>2021-07-24</td>\n",
       "      <td>Referral</td>\n",
       "    </tr>\n",
       "    <tr>\n",
       "      <th>2</th>\n",
       "      <td>2399</td>\n",
       "      <td>2020-10-11</td>\n",
       "      <td>Bulb Website</td>\n",
       "    </tr>\n",
       "    <tr>\n",
       "      <th>3</th>\n",
       "      <td>674</td>\n",
       "      <td>2021-04-04</td>\n",
       "      <td>Referral</td>\n",
       "    </tr>\n",
       "    <tr>\n",
       "      <th>4</th>\n",
       "      <td>2332</td>\n",
       "      <td>2021-09-05</td>\n",
       "      <td>Price Comparison Website</td>\n",
       "    </tr>\n",
       "  </tbody>\n",
       "</table>\n",
       "</div>"
      ],
      "text/plain": [
       "   customer_id sign_up_date           sign_up_channel\n",
       "0         2543   2021-04-26  Price Comparison Website\n",
       "1         2181   2021-07-24                  Referral\n",
       "2         2399   2020-10-11              Bulb Website\n",
       "3          674   2021-04-04                  Referral\n",
       "4         2332   2021-09-05  Price Comparison Website"
      ]
     },
     "execution_count": 32,
     "metadata": {},
     "output_type": "execute_result"
    }
   ],
   "source": [
    "df_customer.head()"
   ]
  },
  {
   "cell_type": "code",
   "execution_count": 35,
   "id": "6013eb16",
   "metadata": {},
   "outputs": [
    {
     "name": "stdout",
     "output_type": "stream",
     "text": [
      "<class 'pandas.core.frame.DataFrame'>\n",
      "RangeIndex: 1699 entries, 0 to 1698\n",
      "Data columns (total 3 columns):\n",
      " #   Column           Non-Null Count  Dtype \n",
      "---  ------           --------------  ----- \n",
      " 0   customer_id      1699 non-null   int64 \n",
      " 1   sign_up_date     1699 non-null   object\n",
      " 2   sign_up_channel  1699 non-null   object\n",
      "dtypes: int64(1), object(2)\n",
      "memory usage: 39.9+ KB\n"
     ]
    }
   ],
   "source": [
    "df_customer.info()"
   ]
  },
  {
   "cell_type": "code",
   "execution_count": 36,
   "id": "fcc5de78",
   "metadata": {},
   "outputs": [
    {
     "name": "stdout",
     "output_type": "stream",
     "text": [
      "<class 'pandas.core.frame.DataFrame'>\n",
      "RangeIndex: 1699 entries, 0 to 1698\n",
      "Data columns (total 3 columns):\n",
      " #   Column           Non-Null Count  Dtype         \n",
      "---  ------           --------------  -----         \n",
      " 0   customer_id      1699 non-null   int64         \n",
      " 1   sign_up_date     1699 non-null   datetime64[ns]\n",
      " 2   sign_up_channel  1699 non-null   object        \n",
      "dtypes: datetime64[ns](1), int64(1), object(1)\n",
      "memory usage: 39.9+ KB\n"
     ]
    }
   ],
   "source": [
    "# change date to datetime format\n",
    "df_customer[\"sign_up_date\"] = pd.to_datetime(df_customer[\"sign_up_date\"])\n",
    "df_customer.info()"
   ]
  },
  {
   "cell_type": "code",
   "execution_count": 37,
   "id": "3007ac1c",
   "metadata": {},
   "outputs": [
    {
     "data": {
      "image/png": "[encoded data removed]",
      "text/plain": [
       "<Figure size 1080x288 with 1 Axes>"
      ]
     },
     "metadata": {
      "needs_background": "light"
     },
     "output_type": "display_data"
    }
   ],
   "source": [
    "plt.figure(figsize=(15,4))\n",
    "sns.histplot(data=df_customer, x=\"sign_up_date\");"
   ]
  },
  {
   "cell_type": "code",
   "execution_count": 38,
   "id": "5210775a",
   "metadata": {},
   "outputs": [
    {
     "data": {
      "image/png": "[encoded data removed]",
      "text/plain": [
       "<Figure size 1080x288 with 1 Axes>"
      ]
     },
     "metadata": {
      "needs_background": "light"
     },
     "output_type": "display_data"
    }
   ],
   "source": [
    "plt.figure(figsize=(15,4))\n",
    "sns.histplot(data=df_customer, x=\"sign_up_channel\");"
   ]
  },
  {
   "cell_type": "code",
   "execution_count": 48,
   "id": "d4245c96",
   "metadata": {},
   "outputs": [
    {
     "data": {
      "text/html": [
       "<div>\n",
       "<style scoped>\n",
       "    .dataframe tbody tr th:only-of-type {\n",
       "        vertical-align: middle;\n",
       "    }\n",
       "\n",
       "    .dataframe tbody tr th {\n",
       "        vertical-align: top;\n",
       "    }\n",
       "\n",
       "    .dataframe thead th {\n",
       "        text-align: right;\n",
       "    }\n",
       "</style>\n",
       "<table border=\"1\" class=\"dataframe\">\n",
       "  <thead>\n",
       "    <tr style=\"text-align: right;\">\n",
       "      <th></th>\n",
       "      <th>customer_id</th>\n",
       "      <th>count</th>\n",
       "    </tr>\n",
       "  </thead>\n",
       "  <tbody>\n",
       "    <tr>\n",
       "      <th>97</th>\n",
       "      <td>116</td>\n",
       "      <td>2</td>\n",
       "    </tr>\n",
       "    <tr>\n",
       "      <th>0</th>\n",
       "      <td>0</td>\n",
       "      <td>1</td>\n",
       "    </tr>\n",
       "    <tr>\n",
       "      <th>1129</th>\n",
       "      <td>2285</td>\n",
       "      <td>1</td>\n",
       "    </tr>\n",
       "    <tr>\n",
       "      <th>1140</th>\n",
       "      <td>2296</td>\n",
       "      <td>1</td>\n",
       "    </tr>\n",
       "    <tr>\n",
       "      <th>1139</th>\n",
       "      <td>2295</td>\n",
       "      <td>1</td>\n",
       "    </tr>\n",
       "  </tbody>\n",
       "</table>\n",
       "</div>"
      ],
      "text/plain": [
       "      customer_id  count\n",
       "97            116      2\n",
       "0               0      1\n",
       "1129         2285      1\n",
       "1140         2296      1\n",
       "1139         2295      1"
      ]
     },
     "execution_count": 48,
     "metadata": {},
     "output_type": "execute_result"
    }
   ],
   "source": [
    "# make sure that customer_id is unique\n",
    "df_customer_count = df_customer.groupby(by=\"customer_id\", as_index=False).count().drop(columns=\"sign_up_channel\")\\\n",
    ".rename(columns={\"sign_up_date\" : \"count\"}).sort_values(\"count\", ascending=False)\n",
    "df_customer_count.head()"
   ]
  },
  {
   "cell_type": "code",
   "execution_count": 50,
   "id": "fd86f66a",
   "metadata": {},
   "outputs": [
    {
     "data": {
      "text/html": [
       "<div>\n",
       "<style scoped>\n",
       "    .dataframe tbody tr th:only-of-type {\n",
       "        vertical-align: middle;\n",
       "    }\n",
       "\n",
       "    .dataframe tbody tr th {\n",
       "        vertical-align: top;\n",
       "    }\n",
       "\n",
       "    .dataframe thead th {\n",
       "        text-align: right;\n",
       "    }\n",
       "</style>\n",
       "<table border=\"1\" class=\"dataframe\">\n",
       "  <thead>\n",
       "    <tr style=\"text-align: right;\">\n",
       "      <th></th>\n",
       "      <th>customer_id</th>\n",
       "      <th>sign_up_date</th>\n",
       "      <th>sign_up_channel</th>\n",
       "    </tr>\n",
       "  </thead>\n",
       "  <tbody>\n",
       "    <tr>\n",
       "      <th>53</th>\n",
       "      <td>116</td>\n",
       "      <td>2020-05-07</td>\n",
       "      <td>Price Comparison Website</td>\n",
       "    </tr>\n",
       "    <tr>\n",
       "      <th>1380</th>\n",
       "      <td>116</td>\n",
       "      <td>2020-10-27</td>\n",
       "      <td>Bulb Website</td>\n",
       "    </tr>\n",
       "  </tbody>\n",
       "</table>\n",
       "</div>"
      ],
      "text/plain": [
       "      customer_id sign_up_date           sign_up_channel\n",
       "53            116   2020-05-07  Price Comparison Website\n",
       "1380          116   2020-10-27              Bulb Website"
      ]
     },
     "execution_count": 50,
     "metadata": {},
     "output_type": "execute_result"
    }
   ],
   "source": [
    "df_customer[df_customer[\"customer_id\"] == 116]\n",
    "# interesting: it's strange that customer 116 signed up twice"
   ]
  },
  {
   "cell_type": "code",
   "execution_count": 55,
   "id": "311ea77a",
   "metadata": {},
   "outputs": [
    {
     "data": {
      "text/plain": [
       "(1699, 3)"
      ]
     },
     "execution_count": 55,
     "metadata": {},
     "output_type": "execute_result"
    }
   ],
   "source": [
    "df_customer.shape"
   ]
  },
  {
   "cell_type": "code",
   "execution_count": 58,
   "id": "02edccba",
   "metadata": {},
   "outputs": [
    {
     "data": {
      "text/plain": [
       "(1698, 3)"
      ]
     },
     "execution_count": 58,
     "metadata": {},
     "output_type": "execute_result"
    }
   ],
   "source": [
    "# let's keep only the first subscription for customer 116\n",
    "# let's ignore that this customer probably left and came back, let's consider that he.she was stayed\n",
    "df_customer = df_customer[df_customer.index != 1380]\n",
    "df_customer.shape"
   ]
  },
  {
   "cell_type": "code",
   "execution_count": 59,
   "id": "02a880d5",
   "metadata": {},
   "outputs": [
    {
     "data": {
      "text/html": [
       "<div>\n",
       "<style scoped>\n",
       "    .dataframe tbody tr th:only-of-type {\n",
       "        vertical-align: middle;\n",
       "    }\n",
       "\n",
       "    .dataframe tbody tr th {\n",
       "        vertical-align: top;\n",
       "    }\n",
       "\n",
       "    .dataframe thead th {\n",
       "        text-align: right;\n",
       "    }\n",
       "</style>\n",
       "<table border=\"1\" class=\"dataframe\">\n",
       "  <thead>\n",
       "    <tr style=\"text-align: right;\">\n",
       "      <th></th>\n",
       "      <th>customer_id</th>\n",
       "      <th>count</th>\n",
       "    </tr>\n",
       "  </thead>\n",
       "  <tbody>\n",
       "    <tr>\n",
       "      <th>0</th>\n",
       "      <td>0</td>\n",
       "      <td>1</td>\n",
       "    </tr>\n",
       "    <tr>\n",
       "      <th>1140</th>\n",
       "      <td>2296</td>\n",
       "      <td>1</td>\n",
       "    </tr>\n",
       "    <tr>\n",
       "      <th>1138</th>\n",
       "      <td>2294</td>\n",
       "      <td>1</td>\n",
       "    </tr>\n",
       "    <tr>\n",
       "      <th>1137</th>\n",
       "      <td>2293</td>\n",
       "      <td>1</td>\n",
       "    </tr>\n",
       "    <tr>\n",
       "      <th>1136</th>\n",
       "      <td>2292</td>\n",
       "      <td>1</td>\n",
       "    </tr>\n",
       "  </tbody>\n",
       "</table>\n",
       "</div>"
      ],
      "text/plain": [
       "      customer_id  count\n",
       "0               0      1\n",
       "1140         2296      1\n",
       "1138         2294      1\n",
       "1137         2293      1\n",
       "1136         2292      1"
      ]
     },
     "execution_count": 59,
     "metadata": {},
     "output_type": "execute_result"
    }
   ],
   "source": [
    "# make sure that customer_id is now unique\n",
    "df_customer_count = df_customer.groupby(by=\"customer_id\", as_index=False).count().drop(columns=\"sign_up_channel\")\\\n",
    ".rename(columns={\"sign_up_date\" : \"count\"}).sort_values(\"count\", ascending=False)\n",
    "df_customer_count.head()"
   ]
  },
  {
   "cell_type": "code",
   "execution_count": 60,
   "id": "0e5b640a",
   "metadata": {},
   "outputs": [
    {
     "data": {
      "text/html": [
       "<div>\n",
       "<style scoped>\n",
       "    .dataframe tbody tr th:only-of-type {\n",
       "        vertical-align: middle;\n",
       "    }\n",
       "\n",
       "    .dataframe tbody tr th {\n",
       "        vertical-align: top;\n",
       "    }\n",
       "\n",
       "    .dataframe thead th {\n",
       "        text-align: right;\n",
       "    }\n",
       "</style>\n",
       "<table border=\"1\" class=\"dataframe\">\n",
       "  <thead>\n",
       "    <tr style=\"text-align: right;\">\n",
       "      <th></th>\n",
       "      <th>customer_id</th>\n",
       "      <th>sign_up_date</th>\n",
       "      <th>sign_up_channel</th>\n",
       "    </tr>\n",
       "  </thead>\n",
       "  <tbody>\n",
       "    <tr>\n",
       "      <th>0</th>\n",
       "      <td>2543</td>\n",
       "      <td>2021-04-26</td>\n",
       "      <td>Price Comparison Website</td>\n",
       "    </tr>\n",
       "    <tr>\n",
       "      <th>1</th>\n",
       "      <td>2181</td>\n",
       "      <td>2021-07-24</td>\n",
       "      <td>Referral</td>\n",
       "    </tr>\n",
       "    <tr>\n",
       "      <th>2</th>\n",
       "      <td>2399</td>\n",
       "      <td>2020-10-11</td>\n",
       "      <td>Bulb Website</td>\n",
       "    </tr>\n",
       "    <tr>\n",
       "      <th>3</th>\n",
       "      <td>674</td>\n",
       "      <td>2021-04-04</td>\n",
       "      <td>Referral</td>\n",
       "    </tr>\n",
       "    <tr>\n",
       "      <th>4</th>\n",
       "      <td>2332</td>\n",
       "      <td>2021-09-05</td>\n",
       "      <td>Price Comparison Website</td>\n",
       "    </tr>\n",
       "  </tbody>\n",
       "</table>\n",
       "</div>"
      ],
      "text/plain": [
       "   customer_id sign_up_date           sign_up_channel\n",
       "0         2543   2021-04-26  Price Comparison Website\n",
       "1         2181   2021-07-24                  Referral\n",
       "2         2399   2020-10-11              Bulb Website\n",
       "3          674   2021-04-04                  Referral\n",
       "4         2332   2021-09-05  Price Comparison Website"
      ]
     },
     "execution_count": 60,
     "metadata": {},
     "output_type": "execute_result"
    }
   ],
   "source": [
    "df_customer.head()"
   ]
  },
  {
   "cell_type": "markdown",
   "id": "08fc6cda",
   "metadata": {},
   "source": [
    "# merge both tables"
   ]
  },
  {
   "cell_type": "code",
   "execution_count": 61,
   "id": "ac127ed6",
   "metadata": {},
   "outputs": [
    {
     "data": {
      "text/html": [
       "<div>\n",
       "<style scoped>\n",
       "    .dataframe tbody tr th:only-of-type {\n",
       "        vertical-align: middle;\n",
       "    }\n",
       "\n",
       "    .dataframe tbody tr th {\n",
       "        vertical-align: top;\n",
       "    }\n",
       "\n",
       "    .dataframe thead th {\n",
       "        text-align: right;\n",
       "    }\n",
       "</style>\n",
       "<table border=\"1\" class=\"dataframe\">\n",
       "  <thead>\n",
       "    <tr style=\"text-align: right;\">\n",
       "      <th></th>\n",
       "      <th>referral_date</th>\n",
       "      <th>referrer_customer_id</th>\n",
       "      <th>sign_up_customer_id</th>\n",
       "    </tr>\n",
       "  </thead>\n",
       "  <tbody>\n",
       "    <tr>\n",
       "      <th>0</th>\n",
       "      <td>2021-07-18</td>\n",
       "      <td>795</td>\n",
       "      <td>1771</td>\n",
       "    </tr>\n",
       "    <tr>\n",
       "      <th>1</th>\n",
       "      <td>2021-04-12</td>\n",
       "      <td>577</td>\n",
       "      <td>1510</td>\n",
       "    </tr>\n",
       "    <tr>\n",
       "      <th>2</th>\n",
       "      <td>2021-07-07</td>\n",
       "      <td>868</td>\n",
       "      <td>1858</td>\n",
       "    </tr>\n",
       "    <tr>\n",
       "      <th>3</th>\n",
       "      <td>2021-10-25</td>\n",
       "      <td>801</td>\n",
       "      <td>1778</td>\n",
       "    </tr>\n",
       "    <tr>\n",
       "      <th>4</th>\n",
       "      <td>2021-08-15</td>\n",
       "      <td>690</td>\n",
       "      <td>1637</td>\n",
       "    </tr>\n",
       "  </tbody>\n",
       "</table>\n",
       "</div>"
      ],
      "text/plain": [
       "  referral_date  referrer_customer_id  sign_up_customer_id\n",
       "0    2021-07-18                   795                 1771\n",
       "1    2021-04-12                   577                 1510\n",
       "2    2021-07-07                   868                 1858\n",
       "3    2021-10-25                   801                 1778\n",
       "4    2021-08-15                   690                 1637"
      ]
     },
     "execution_count": 61,
     "metadata": {},
     "output_type": "execute_result"
    }
   ],
   "source": [
    "df_referrals.head()"
   ]
  },
  {
   "cell_type": "code",
   "execution_count": 62,
   "id": "5ed13d3c",
   "metadata": {},
   "outputs": [
    {
     "data": {
      "text/html": [
       "<div>\n",
       "<style scoped>\n",
       "    .dataframe tbody tr th:only-of-type {\n",
       "        vertical-align: middle;\n",
       "    }\n",
       "\n",
       "    .dataframe tbody tr th {\n",
       "        vertical-align: top;\n",
       "    }\n",
       "\n",
       "    .dataframe thead th {\n",
       "        text-align: right;\n",
       "    }\n",
       "</style>\n",
       "<table border=\"1\" class=\"dataframe\">\n",
       "  <thead>\n",
       "    <tr style=\"text-align: right;\">\n",
       "      <th></th>\n",
       "      <th>customer_id</th>\n",
       "      <th>sign_up_date</th>\n",
       "      <th>sign_up_channel</th>\n",
       "    </tr>\n",
       "  </thead>\n",
       "  <tbody>\n",
       "    <tr>\n",
       "      <th>0</th>\n",
       "      <td>2543</td>\n",
       "      <td>2021-04-26</td>\n",
       "      <td>Price Comparison Website</td>\n",
       "    </tr>\n",
       "    <tr>\n",
       "      <th>1</th>\n",
       "      <td>2181</td>\n",
       "      <td>2021-07-24</td>\n",
       "      <td>Referral</td>\n",
       "    </tr>\n",
       "    <tr>\n",
       "      <th>2</th>\n",
       "      <td>2399</td>\n",
       "      <td>2020-10-11</td>\n",
       "      <td>Bulb Website</td>\n",
       "    </tr>\n",
       "    <tr>\n",
       "      <th>3</th>\n",
       "      <td>674</td>\n",
       "      <td>2021-04-04</td>\n",
       "      <td>Referral</td>\n",
       "    </tr>\n",
       "    <tr>\n",
       "      <th>4</th>\n",
       "      <td>2332</td>\n",
       "      <td>2021-09-05</td>\n",
       "      <td>Price Comparison Website</td>\n",
       "    </tr>\n",
       "  </tbody>\n",
       "</table>\n",
       "</div>"
      ],
      "text/plain": [
       "   customer_id sign_up_date           sign_up_channel\n",
       "0         2543   2021-04-26  Price Comparison Website\n",
       "1         2181   2021-07-24                  Referral\n",
       "2         2399   2020-10-11              Bulb Website\n",
       "3          674   2021-04-04                  Referral\n",
       "4         2332   2021-09-05  Price Comparison Website"
      ]
     },
     "execution_count": 62,
     "metadata": {},
     "output_type": "execute_result"
    }
   ],
   "source": [
    "df_customer.head()"
   ]
  },
  {
   "cell_type": "code",
   "execution_count": 66,
   "id": "78b45174",
   "metadata": {},
   "outputs": [
    {
     "data": {
      "text/html": [
       "<div>\n",
       "<style scoped>\n",
       "    .dataframe tbody tr th:only-of-type {\n",
       "        vertical-align: middle;\n",
       "    }\n",
       "\n",
       "    .dataframe tbody tr th {\n",
       "        vertical-align: top;\n",
       "    }\n",
       "\n",
       "    .dataframe thead th {\n",
       "        text-align: right;\n",
       "    }\n",
       "</style>\n",
       "<table border=\"1\" class=\"dataframe\">\n",
       "  <thead>\n",
       "    <tr style=\"text-align: right;\">\n",
       "      <th></th>\n",
       "      <th>referral_date</th>\n",
       "      <th>referrer_customer_id</th>\n",
       "      <th>sign_up_customer_id</th>\n",
       "      <th>referrer_sign_up_date</th>\n",
       "      <th>referrer_sign_up_channel</th>\n",
       "    </tr>\n",
       "  </thead>\n",
       "  <tbody>\n",
       "    <tr>\n",
       "      <th>0</th>\n",
       "      <td>2021-07-18</td>\n",
       "      <td>795</td>\n",
       "      <td>1771</td>\n",
       "      <td>2021-03-03</td>\n",
       "      <td>Price Comparison Website</td>\n",
       "    </tr>\n",
       "    <tr>\n",
       "      <th>1</th>\n",
       "      <td>2021-04-12</td>\n",
       "      <td>577</td>\n",
       "      <td>1510</td>\n",
       "      <td>2021-03-28</td>\n",
       "      <td>Price Comparison Website</td>\n",
       "    </tr>\n",
       "    <tr>\n",
       "      <th>2</th>\n",
       "      <td>2021-07-07</td>\n",
       "      <td>868</td>\n",
       "      <td>1858</td>\n",
       "      <td>2021-03-07</td>\n",
       "      <td>Bulb Website</td>\n",
       "    </tr>\n",
       "    <tr>\n",
       "      <th>3</th>\n",
       "      <td>2021-10-25</td>\n",
       "      <td>801</td>\n",
       "      <td>1778</td>\n",
       "      <td>2021-04-30</td>\n",
       "      <td>Referral</td>\n",
       "    </tr>\n",
       "    <tr>\n",
       "      <th>4</th>\n",
       "      <td>2021-08-15</td>\n",
       "      <td>690</td>\n",
       "      <td>1637</td>\n",
       "      <td>2021-07-29</td>\n",
       "      <td>Price Comparison Website</td>\n",
       "    </tr>\n",
       "  </tbody>\n",
       "</table>\n",
       "</div>"
      ],
      "text/plain": [
       "  referral_date  referrer_customer_id  sign_up_customer_id  \\\n",
       "0    2021-07-18                   795                 1771   \n",
       "1    2021-04-12                   577                 1510   \n",
       "2    2021-07-07                   868                 1858   \n",
       "3    2021-10-25                   801                 1778   \n",
       "4    2021-08-15                   690                 1637   \n",
       "\n",
       "  referrer_sign_up_date  referrer_sign_up_channel  \n",
       "0            2021-03-03  Price Comparison Website  \n",
       "1            2021-03-28  Price Comparison Website  \n",
       "2            2021-03-07              Bulb Website  \n",
       "3            2021-04-30                  Referral  \n",
       "4            2021-07-29  Price Comparison Website  "
      ]
     },
     "execution_count": 66,
     "metadata": {},
     "output_type": "execute_result"
    }
   ],
   "source": [
    "df_all = df_referrals.merge(right=df_customer, how=\"left\", left_on=\"referrer_customer_id\", right_on=\"customer_id\")\\\n",
    ".drop(columns=\"customer_id\").rename(columns={\n",
    "    \"sign_up_date\" : \"referrer_sign_up_date\",\n",
    "    \"sign_up_channel\" : \"referrer_sign_up_channel\"\n",
    "})\n",
    "df_all.head()"
   ]
  },
  {
   "cell_type": "code",
   "execution_count": 67,
   "id": "12141630",
   "metadata": {},
   "outputs": [
    {
     "data": {
      "text/html": [
       "<div>\n",
       "<style scoped>\n",
       "    .dataframe tbody tr th:only-of-type {\n",
       "        vertical-align: middle;\n",
       "    }\n",
       "\n",
       "    .dataframe tbody tr th {\n",
       "        vertical-align: top;\n",
       "    }\n",
       "\n",
       "    .dataframe thead th {\n",
       "        text-align: right;\n",
       "    }\n",
       "</style>\n",
       "<table border=\"1\" class=\"dataframe\">\n",
       "  <thead>\n",
       "    <tr style=\"text-align: right;\">\n",
       "      <th></th>\n",
       "      <th>referral_date</th>\n",
       "      <th>referrer_customer_id</th>\n",
       "      <th>sign_up_customer_id</th>\n",
       "      <th>referrer_sign_up_date</th>\n",
       "      <th>referrer_sign_up_channel</th>\n",
       "      <th>referree_sign_up_date</th>\n",
       "      <th>referree_sign_up_channel</th>\n",
       "    </tr>\n",
       "  </thead>\n",
       "  <tbody>\n",
       "    <tr>\n",
       "      <th>0</th>\n",
       "      <td>2021-07-18</td>\n",
       "      <td>795</td>\n",
       "      <td>1771</td>\n",
       "      <td>2021-03-03</td>\n",
       "      <td>Price Comparison Website</td>\n",
       "      <td>NaT</td>\n",
       "      <td>NaN</td>\n",
       "    </tr>\n",
       "    <tr>\n",
       "      <th>1</th>\n",
       "      <td>2021-04-12</td>\n",
       "      <td>577</td>\n",
       "      <td>1510</td>\n",
       "      <td>2021-03-28</td>\n",
       "      <td>Price Comparison Website</td>\n",
       "      <td>NaT</td>\n",
       "      <td>NaN</td>\n",
       "    </tr>\n",
       "    <tr>\n",
       "      <th>2</th>\n",
       "      <td>2021-07-07</td>\n",
       "      <td>868</td>\n",
       "      <td>1858</td>\n",
       "      <td>2021-03-07</td>\n",
       "      <td>Bulb Website</td>\n",
       "      <td>NaT</td>\n",
       "      <td>NaN</td>\n",
       "    </tr>\n",
       "    <tr>\n",
       "      <th>3</th>\n",
       "      <td>2021-10-25</td>\n",
       "      <td>801</td>\n",
       "      <td>1778</td>\n",
       "      <td>2021-04-30</td>\n",
       "      <td>Referral</td>\n",
       "      <td>NaT</td>\n",
       "      <td>NaN</td>\n",
       "    </tr>\n",
       "    <tr>\n",
       "      <th>4</th>\n",
       "      <td>2021-08-15</td>\n",
       "      <td>690</td>\n",
       "      <td>1637</td>\n",
       "      <td>2021-07-29</td>\n",
       "      <td>Price Comparison Website</td>\n",
       "      <td>NaT</td>\n",
       "      <td>NaN</td>\n",
       "    </tr>\n",
       "  </tbody>\n",
       "</table>\n",
       "</div>"
      ],
      "text/plain": [
       "  referral_date  referrer_customer_id  sign_up_customer_id  \\\n",
       "0    2021-07-18                   795                 1771   \n",
       "1    2021-04-12                   577                 1510   \n",
       "2    2021-07-07                   868                 1858   \n",
       "3    2021-10-25                   801                 1778   \n",
       "4    2021-08-15                   690                 1637   \n",
       "\n",
       "  referrer_sign_up_date  referrer_sign_up_channel referree_sign_up_date  \\\n",
       "0            2021-03-03  Price Comparison Website                   NaT   \n",
       "1            2021-03-28  Price Comparison Website                   NaT   \n",
       "2            2021-03-07              Bulb Website                   NaT   \n",
       "3            2021-04-30                  Referral                   NaT   \n",
       "4            2021-07-29  Price Comparison Website                   NaT   \n",
       "\n",
       "  referree_sign_up_channel  \n",
       "0                      NaN  \n",
       "1                      NaN  \n",
       "2                      NaN  \n",
       "3                      NaN  \n",
       "4                      NaN  "
      ]
     },
     "execution_count": 67,
     "metadata": {},
     "output_type": "execute_result"
    }
   ],
   "source": [
    "df_all = df_all.merge(right=df_customer, how=\"left\", left_on=\"sign_up_customer_id\", right_on=\"customer_id\")\\\n",
    ".drop(columns=\"customer_id\").rename(columns={\n",
    "    \"sign_up_date\" : \"referree_sign_up_date\",\n",
    "    \"sign_up_channel\" : \"referree_sign_up_channel\"\n",
    "})\n",
    "df_all.head()"
   ]
  },
  {
   "cell_type": "code",
   "execution_count": 78,
   "id": "4d9dc037",
   "metadata": {},
   "outputs": [
    {
     "data": {
      "text/plain": [
       "referral_date               0.000\n",
       "referrer_customer_id        0.000\n",
       "sign_up_customer_id         0.000\n",
       "referrer_sign_up_date       0.170\n",
       "referrer_sign_up_channel    0.170\n",
       "referree_sign_up_date       0.988\n",
       "referree_sign_up_channel    0.988\n",
       "dtype: float64"
      ]
     },
     "execution_count": 78,
     "metadata": {},
     "output_type": "execute_result"
    }
   ],
   "source": [
    "df_all.isna().sum() / len(df_all)\n",
    "# problem: many referee missing from customer table"
   ]
  },
  {
   "cell_type": "code",
   "execution_count": 79,
   "id": "e63f1ef0",
   "metadata": {},
   "outputs": [
    {
     "data": {
      "image/png": "[encoded data removed]",
      "text/plain": [
       "<Figure size 432x288 with 1 Axes>"
      ]
     },
     "metadata": {
      "needs_background": "light"
     },
     "output_type": "display_data"
    }
   ],
   "source": [
    "sns.histplot(data=df_customer, x=\"customer_id\");\n",
    "# there's a gap in the customer ids, it looks like we're missing customer ids"
   ]
  },
  {
   "cell_type": "code",
   "execution_count": 82,
   "id": "3fde0ae4",
   "metadata": {},
   "outputs": [
    {
     "data": {
      "image/png": "[encoded data removed]",
      "text/plain": [
       "<Figure size 432x288 with 1 Axes>"
      ]
     },
     "metadata": {
      "needs_background": "light"
     },
     "output_type": "display_data"
    }
   ],
   "source": [
    "sns.histplot(data=df_referrals, x=\"sign_up_customer_id\");"
   ]
  },
  {
   "cell_type": "code",
   "execution_count": 85,
   "id": "a59768c6",
   "metadata": {},
   "outputs": [
    {
     "data": {
      "text/html": [
       "<div>\n",
       "<style scoped>\n",
       "    .dataframe tbody tr th:only-of-type {\n",
       "        vertical-align: middle;\n",
       "    }\n",
       "\n",
       "    .dataframe tbody tr th {\n",
       "        vertical-align: top;\n",
       "    }\n",
       "\n",
       "    .dataframe thead th {\n",
       "        text-align: right;\n",
       "    }\n",
       "</style>\n",
       "<table border=\"1\" class=\"dataframe\">\n",
       "  <thead>\n",
       "    <tr style=\"text-align: right;\">\n",
       "      <th></th>\n",
       "      <th>customer_id</th>\n",
       "      <th>sign_up_date</th>\n",
       "      <th>sign_up_channel</th>\n",
       "    </tr>\n",
       "  </thead>\n",
       "  <tbody>\n",
       "    <tr>\n",
       "      <th>0</th>\n",
       "      <td>2543</td>\n",
       "      <td>2021-04-26</td>\n",
       "      <td>Price Comparison Website</td>\n",
       "    </tr>\n",
       "    <tr>\n",
       "      <th>1</th>\n",
       "      <td>2181</td>\n",
       "      <td>2021-07-24</td>\n",
       "      <td>Referral</td>\n",
       "    </tr>\n",
       "    <tr>\n",
       "      <th>2</th>\n",
       "      <td>2399</td>\n",
       "      <td>2020-10-11</td>\n",
       "      <td>Bulb Website</td>\n",
       "    </tr>\n",
       "    <tr>\n",
       "      <th>3</th>\n",
       "      <td>674</td>\n",
       "      <td>2021-04-04</td>\n",
       "      <td>Referral</td>\n",
       "    </tr>\n",
       "    <tr>\n",
       "      <th>4</th>\n",
       "      <td>2332</td>\n",
       "      <td>2021-09-05</td>\n",
       "      <td>Price Comparison Website</td>\n",
       "    </tr>\n",
       "  </tbody>\n",
       "</table>\n",
       "</div>"
      ],
      "text/plain": [
       "   customer_id sign_up_date           sign_up_channel\n",
       "0         2543   2021-04-26  Price Comparison Website\n",
       "1         2181   2021-07-24                  Referral\n",
       "2         2399   2020-10-11              Bulb Website\n",
       "3          674   2021-04-04                  Referral\n",
       "4         2332   2021-09-05  Price Comparison Website"
      ]
     },
     "execution_count": 85,
     "metadata": {},
     "output_type": "execute_result"
    }
   ],
   "source": [
    "df_customer.head()"
   ]
  },
  {
   "cell_type": "code",
   "execution_count": 88,
   "id": "bac4e58f",
   "metadata": {},
   "outputs": [
    {
     "data": {
      "image/png": "[encoded data removed]",
      "text/plain": [
       "<Figure size 432x288 with 1 Axes>"
      ]
     },
     "metadata": {
      "needs_background": "light"
     },
     "output_type": "display_data"
    }
   ],
   "source": [
    "sns.scatterplot(data=df_customer, x=\"sign_up_date\", y=\"customer_id\", hue=\"sign_up_channel\", legend=False);"
   ]
  },
  {
   "cell_type": "code",
   "execution_count": 89,
   "id": "b7f4ff97",
   "metadata": {},
   "outputs": [
    {
     "data": {
      "text/plain": [
       "0.5871613663133097"
      ]
     },
     "execution_count": 89,
     "metadata": {},
     "output_type": "execute_result"
    }
   ],
   "source": [
    "(df_customer[\"customer_id\"] > 1000).sum() / len(df_customer)"
   ]
  },
  {
   "cell_type": "code",
   "execution_count": 91,
   "id": "6d3190c8",
   "metadata": {},
   "outputs": [
    {
     "data": {
      "text/plain": [
       "997"
      ]
     },
     "execution_count": 91,
     "metadata": {},
     "output_type": "execute_result"
    }
   ],
   "source": [
    "(df_customer[\"customer_id\"] > 1000).sum()"
   ]
  },
  {
   "cell_type": "code",
   "execution_count": 92,
   "id": "4515d274",
   "metadata": {},
   "outputs": [
    {
     "data": {
      "text/plain": [
       "701"
      ]
     },
     "execution_count": 92,
     "metadata": {},
     "output_type": "execute_result"
    }
   ],
   "source": [
    "(df_customer[\"customer_id\"] <= 1000).sum()"
   ]
  },
  {
   "cell_type": "code",
   "execution_count": 90,
   "id": "e9390a35",
   "metadata": {},
   "outputs": [
    {
     "data": {
      "text/html": [
       "<div>\n",
       "<style scoped>\n",
       "    .dataframe tbody tr th:only-of-type {\n",
       "        vertical-align: middle;\n",
       "    }\n",
       "\n",
       "    .dataframe tbody tr th {\n",
       "        vertical-align: top;\n",
       "    }\n",
       "\n",
       "    .dataframe thead th {\n",
       "        text-align: right;\n",
       "    }\n",
       "</style>\n",
       "<table border=\"1\" class=\"dataframe\">\n",
       "  <thead>\n",
       "    <tr style=\"text-align: right;\">\n",
       "      <th></th>\n",
       "      <th>referral_date</th>\n",
       "      <th>referrer_customer_id</th>\n",
       "      <th>sign_up_customer_id</th>\n",
       "    </tr>\n",
       "  </thead>\n",
       "  <tbody>\n",
       "    <tr>\n",
       "      <th>0</th>\n",
       "      <td>2021-07-18</td>\n",
       "      <td>795</td>\n",
       "      <td>1771</td>\n",
       "    </tr>\n",
       "    <tr>\n",
       "      <th>1</th>\n",
       "      <td>2021-04-12</td>\n",
       "      <td>577</td>\n",
       "      <td>1510</td>\n",
       "    </tr>\n",
       "    <tr>\n",
       "      <th>2</th>\n",
       "      <td>2021-07-07</td>\n",
       "      <td>868</td>\n",
       "      <td>1858</td>\n",
       "    </tr>\n",
       "    <tr>\n",
       "      <th>3</th>\n",
       "      <td>2021-10-25</td>\n",
       "      <td>801</td>\n",
       "      <td>1778</td>\n",
       "    </tr>\n",
       "    <tr>\n",
       "      <th>4</th>\n",
       "      <td>2021-08-15</td>\n",
       "      <td>690</td>\n",
       "      <td>1637</td>\n",
       "    </tr>\n",
       "  </tbody>\n",
       "</table>\n",
       "</div>"
      ],
      "text/plain": [
       "  referral_date  referrer_customer_id  sign_up_customer_id\n",
       "0    2021-07-18                   795                 1771\n",
       "1    2021-04-12                   577                 1510\n",
       "2    2021-07-07                   868                 1858\n",
       "3    2021-10-25                   801                 1778\n",
       "4    2021-08-15                   690                 1637"
      ]
     },
     "execution_count": 90,
     "metadata": {},
     "output_type": "execute_result"
    }
   ],
   "source": [
    "df_referrals.head()"
   ]
  },
  {
   "cell_type": "code",
   "execution_count": 93,
   "id": "ead98905",
   "metadata": {},
   "outputs": [
    {
     "data": {
      "text/plain": [
       "869"
      ]
     },
     "execution_count": 93,
     "metadata": {},
     "output_type": "execute_result"
    }
   ],
   "source": [
    "len(df_referrals.groupby(by=\"referrer_customer_id\").count())"
   ]
  },
  {
   "cell_type": "code",
   "execution_count": 94,
   "id": "ec496158",
   "metadata": {},
   "outputs": [
    {
     "data": {
      "text/plain": [
       "1000"
      ]
     },
     "execution_count": 94,
     "metadata": {},
     "output_type": "execute_result"
    }
   ],
   "source": [
    "len(df_referrals.groupby(by=\"sign_up_customer_id\").count())"
   ]
  },
  {
   "cell_type": "code",
   "execution_count": 95,
   "id": "71902b77",
   "metadata": {},
   "outputs": [
    {
     "data": {
      "text/plain": [
       "(1000, 3)"
      ]
     },
     "execution_count": 95,
     "metadata": {},
     "output_type": "execute_result"
    }
   ],
   "source": [
    "df_referrals.shape"
   ]
  },
  {
   "cell_type": "markdown",
   "id": "216a1087",
   "metadata": {},
   "source": [
    "# we don't know who the referees are (they're not in the customer table) but that's ok, it's not a key information for what we want to do. So let's merge both tables like this:"
   ]
  },
  {
   "cell_type": "code",
   "execution_count": 96,
   "id": "6054f810",
   "metadata": {},
   "outputs": [
    {
     "data": {
      "text/html": [
       "<div>\n",
       "<style scoped>\n",
       "    .dataframe tbody tr th:only-of-type {\n",
       "        vertical-align: middle;\n",
       "    }\n",
       "\n",
       "    .dataframe tbody tr th {\n",
       "        vertical-align: top;\n",
       "    }\n",
       "\n",
       "    .dataframe thead th {\n",
       "        text-align: right;\n",
       "    }\n",
       "</style>\n",
       "<table border=\"1\" class=\"dataframe\">\n",
       "  <thead>\n",
       "    <tr style=\"text-align: right;\">\n",
       "      <th></th>\n",
       "      <th>referral_date</th>\n",
       "      <th>referrer_customer_id</th>\n",
       "      <th>sign_up_customer_id</th>\n",
       "      <th>referrer_sign_up_date</th>\n",
       "      <th>referrer_sign_up_channel</th>\n",
       "    </tr>\n",
       "  </thead>\n",
       "  <tbody>\n",
       "    <tr>\n",
       "      <th>0</th>\n",
       "      <td>2021-07-18</td>\n",
       "      <td>795</td>\n",
       "      <td>1771</td>\n",
       "      <td>2021-03-03</td>\n",
       "      <td>Price Comparison Website</td>\n",
       "    </tr>\n",
       "    <tr>\n",
       "      <th>1</th>\n",
       "      <td>2021-04-12</td>\n",
       "      <td>577</td>\n",
       "      <td>1510</td>\n",
       "      <td>2021-03-28</td>\n",
       "      <td>Price Comparison Website</td>\n",
       "    </tr>\n",
       "    <tr>\n",
       "      <th>2</th>\n",
       "      <td>2021-07-07</td>\n",
       "      <td>868</td>\n",
       "      <td>1858</td>\n",
       "      <td>2021-03-07</td>\n",
       "      <td>Bulb Website</td>\n",
       "    </tr>\n",
       "    <tr>\n",
       "      <th>3</th>\n",
       "      <td>2021-10-25</td>\n",
       "      <td>801</td>\n",
       "      <td>1778</td>\n",
       "      <td>2021-04-30</td>\n",
       "      <td>Referral</td>\n",
       "    </tr>\n",
       "    <tr>\n",
       "      <th>4</th>\n",
       "      <td>2021-08-15</td>\n",
       "      <td>690</td>\n",
       "      <td>1637</td>\n",
       "      <td>2021-07-29</td>\n",
       "      <td>Price Comparison Website</td>\n",
       "    </tr>\n",
       "  </tbody>\n",
       "</table>\n",
       "</div>"
      ],
      "text/plain": [
       "  referral_date  referrer_customer_id  sign_up_customer_id  \\\n",
       "0    2021-07-18                   795                 1771   \n",
       "1    2021-04-12                   577                 1510   \n",
       "2    2021-07-07                   868                 1858   \n",
       "3    2021-10-25                   801                 1778   \n",
       "4    2021-08-15                   690                 1637   \n",
       "\n",
       "  referrer_sign_up_date  referrer_sign_up_channel  \n",
       "0            2021-03-03  Price Comparison Website  \n",
       "1            2021-03-28  Price Comparison Website  \n",
       "2            2021-03-07              Bulb Website  \n",
       "3            2021-04-30                  Referral  \n",
       "4            2021-07-29  Price Comparison Website  "
      ]
     },
     "execution_count": 96,
     "metadata": {},
     "output_type": "execute_result"
    }
   ],
   "source": [
    "df_all = df_referrals.merge(right=df_customer, how=\"left\", left_on=\"referrer_customer_id\", right_on=\"customer_id\")\\\n",
    ".drop(columns=\"customer_id\").rename(columns={\n",
    "    \"sign_up_date\" : \"referrer_sign_up_date\",\n",
    "    \"sign_up_channel\" : \"referrer_sign_up_channel\"\n",
    "})\n",
    "df_all.head()"
   ]
  },
  {
   "cell_type": "code",
   "execution_count": 100,
   "id": "1f76c3b4",
   "metadata": {},
   "outputs": [
    {
     "data": {
      "text/html": [
       "<div>\n",
       "<style scoped>\n",
       "    .dataframe tbody tr th:only-of-type {\n",
       "        vertical-align: middle;\n",
       "    }\n",
       "\n",
       "    .dataframe tbody tr th {\n",
       "        vertical-align: top;\n",
       "    }\n",
       "\n",
       "    .dataframe thead th {\n",
       "        text-align: right;\n",
       "    }\n",
       "</style>\n",
       "<table border=\"1\" class=\"dataframe\">\n",
       "  <thead>\n",
       "    <tr style=\"text-align: right;\">\n",
       "      <th></th>\n",
       "      <th>referral_date</th>\n",
       "      <th>referrer_customer_id</th>\n",
       "      <th>sign_up_customer_id</th>\n",
       "      <th>referrer_sign_up_date</th>\n",
       "      <th>referrer_sign_up_channel</th>\n",
       "      <th>duration_before_referal</th>\n",
       "    </tr>\n",
       "  </thead>\n",
       "  <tbody>\n",
       "    <tr>\n",
       "      <th>0</th>\n",
       "      <td>2021-07-18</td>\n",
       "      <td>795</td>\n",
       "      <td>1771</td>\n",
       "      <td>2021-03-03</td>\n",
       "      <td>Price Comparison Website</td>\n",
       "      <td>137 days</td>\n",
       "    </tr>\n",
       "    <tr>\n",
       "      <th>1</th>\n",
       "      <td>2021-04-12</td>\n",
       "      <td>577</td>\n",
       "      <td>1510</td>\n",
       "      <td>2021-03-28</td>\n",
       "      <td>Price Comparison Website</td>\n",
       "      <td>15 days</td>\n",
       "    </tr>\n",
       "    <tr>\n",
       "      <th>2</th>\n",
       "      <td>2021-07-07</td>\n",
       "      <td>868</td>\n",
       "      <td>1858</td>\n",
       "      <td>2021-03-07</td>\n",
       "      <td>Bulb Website</td>\n",
       "      <td>122 days</td>\n",
       "    </tr>\n",
       "    <tr>\n",
       "      <th>3</th>\n",
       "      <td>2021-10-25</td>\n",
       "      <td>801</td>\n",
       "      <td>1778</td>\n",
       "      <td>2021-04-30</td>\n",
       "      <td>Referral</td>\n",
       "      <td>178 days</td>\n",
       "    </tr>\n",
       "    <tr>\n",
       "      <th>4</th>\n",
       "      <td>2021-08-15</td>\n",
       "      <td>690</td>\n",
       "      <td>1637</td>\n",
       "      <td>2021-07-29</td>\n",
       "      <td>Price Comparison Website</td>\n",
       "      <td>17 days</td>\n",
       "    </tr>\n",
       "  </tbody>\n",
       "</table>\n",
       "</div>"
      ],
      "text/plain": [
       "  referral_date  referrer_customer_id  sign_up_customer_id  \\\n",
       "0    2021-07-18                   795                 1771   \n",
       "1    2021-04-12                   577                 1510   \n",
       "2    2021-07-07                   868                 1858   \n",
       "3    2021-10-25                   801                 1778   \n",
       "4    2021-08-15                   690                 1637   \n",
       "\n",
       "  referrer_sign_up_date  referrer_sign_up_channel duration_before_referal  \n",
       "0            2021-03-03  Price Comparison Website                137 days  \n",
       "1            2021-03-28  Price Comparison Website                 15 days  \n",
       "2            2021-03-07              Bulb Website                122 days  \n",
       "3            2021-04-30                  Referral                178 days  \n",
       "4            2021-07-29  Price Comparison Website                 17 days  "
      ]
     },
     "execution_count": 100,
     "metadata": {},
     "output_type": "execute_result"
    }
   ],
   "source": [
    "df_all[\"duration_before_referal\"] = df_all[\"referral_date\"] - df_all[\"referrer_sign_up_date\"]\n",
    "df_all.head()"
   ]
  },
  {
   "cell_type": "code",
   "execution_count": 103,
   "id": "dcda1a1b",
   "metadata": {},
   "outputs": [
    {
     "data": {
      "text/html": [
       "<div>\n",
       "<style scoped>\n",
       "    .dataframe tbody tr th:only-of-type {\n",
       "        vertical-align: middle;\n",
       "    }\n",
       "\n",
       "    .dataframe tbody tr th {\n",
       "        vertical-align: top;\n",
       "    }\n",
       "\n",
       "    .dataframe thead th {\n",
       "        text-align: right;\n",
       "    }\n",
       "</style>\n",
       "<table border=\"1\" class=\"dataframe\">\n",
       "  <thead>\n",
       "    <tr style=\"text-align: right;\">\n",
       "      <th></th>\n",
       "      <th>referral_date</th>\n",
       "      <th>referrer_customer_id</th>\n",
       "      <th>sign_up_customer_id</th>\n",
       "      <th>referrer_sign_up_date</th>\n",
       "      <th>referrer_sign_up_channel</th>\n",
       "      <th>duration_before_referal</th>\n",
       "      <th>days_before_referal</th>\n",
       "    </tr>\n",
       "  </thead>\n",
       "  <tbody>\n",
       "    <tr>\n",
       "      <th>0</th>\n",
       "      <td>2021-07-18</td>\n",
       "      <td>795</td>\n",
       "      <td>1771</td>\n",
       "      <td>2021-03-03</td>\n",
       "      <td>Price Comparison Website</td>\n",
       "      <td>137 days</td>\n",
       "      <td>137.0</td>\n",
       "    </tr>\n",
       "    <tr>\n",
       "      <th>1</th>\n",
       "      <td>2021-04-12</td>\n",
       "      <td>577</td>\n",
       "      <td>1510</td>\n",
       "      <td>2021-03-28</td>\n",
       "      <td>Price Comparison Website</td>\n",
       "      <td>15 days</td>\n",
       "      <td>15.0</td>\n",
       "    </tr>\n",
       "    <tr>\n",
       "      <th>2</th>\n",
       "      <td>2021-07-07</td>\n",
       "      <td>868</td>\n",
       "      <td>1858</td>\n",
       "      <td>2021-03-07</td>\n",
       "      <td>Bulb Website</td>\n",
       "      <td>122 days</td>\n",
       "      <td>122.0</td>\n",
       "    </tr>\n",
       "    <tr>\n",
       "      <th>3</th>\n",
       "      <td>2021-10-25</td>\n",
       "      <td>801</td>\n",
       "      <td>1778</td>\n",
       "      <td>2021-04-30</td>\n",
       "      <td>Referral</td>\n",
       "      <td>178 days</td>\n",
       "      <td>178.0</td>\n",
       "    </tr>\n",
       "    <tr>\n",
       "      <th>4</th>\n",
       "      <td>2021-08-15</td>\n",
       "      <td>690</td>\n",
       "      <td>1637</td>\n",
       "      <td>2021-07-29</td>\n",
       "      <td>Price Comparison Website</td>\n",
       "      <td>17 days</td>\n",
       "      <td>17.0</td>\n",
       "    </tr>\n",
       "  </tbody>\n",
       "</table>\n",
       "</div>"
      ],
      "text/plain": [
       "  referral_date  referrer_customer_id  sign_up_customer_id  \\\n",
       "0    2021-07-18                   795                 1771   \n",
       "1    2021-04-12                   577                 1510   \n",
       "2    2021-07-07                   868                 1858   \n",
       "3    2021-10-25                   801                 1778   \n",
       "4    2021-08-15                   690                 1637   \n",
       "\n",
       "  referrer_sign_up_date  referrer_sign_up_channel duration_before_referal  \\\n",
       "0            2021-03-03  Price Comparison Website                137 days   \n",
       "1            2021-03-28  Price Comparison Website                 15 days   \n",
       "2            2021-03-07              Bulb Website                122 days   \n",
       "3            2021-04-30                  Referral                178 days   \n",
       "4            2021-07-29  Price Comparison Website                 17 days   \n",
       "\n",
       "   days_before_referal  \n",
       "0                137.0  \n",
       "1                 15.0  \n",
       "2                122.0  \n",
       "3                178.0  \n",
       "4                 17.0  "
      ]
     },
     "execution_count": 103,
     "metadata": {},
     "output_type": "execute_result"
    }
   ],
   "source": [
    "df_all[\"days_before_referal\"] = df_all[\"duration_before_referal\"].dt.days\n",
    "df_all.head()"
   ]
  },
  {
   "cell_type": "code",
   "execution_count": 106,
   "id": "b75de05c",
   "metadata": {},
   "outputs": [
    {
     "data": {
      "image/png": "[encoded data removed]",
      "text/plain": [
       "<Figure size 1080x288 with 1 Axes>"
      ]
     },
     "metadata": {
      "needs_background": "light"
     },
     "output_type": "display_data"
    }
   ],
   "source": [
    "plt.figure(figsize=(15,4))\n",
    "sns.histplot(data=df_all, x=\"days_before_referal\");\n",
    "# looks like people refer others as soon as they sign up"
   ]
  },
  {
   "cell_type": "code",
   "execution_count": 108,
   "id": "b42a5d6c",
   "metadata": {},
   "outputs": [
    {
     "data": {
      "image/png": "[encoded data removed]",
      "text/plain": [
       "<Figure size 432x288 with 1 Axes>"
      ]
     },
     "metadata": {
      "needs_background": "light"
     },
     "output_type": "display_data"
    }
   ],
   "source": [
    "sns.scatterplot(data=df_all, x=\"referral_date\", y=\"days_before_referal\");"
   ]
  },
  {
   "cell_type": "markdown",
   "id": "119776e9",
   "metadata": {},
   "source": [
    "# Let's start answering questions"
   ]
  },
  {
   "cell_type": "markdown",
   "id": "48c89228",
   "metadata": {},
   "source": [
    "## When do members refer?"
   ]
  },
  {
   "cell_type": "code",
   "execution_count": 113,
   "id": "5007f32c",
   "metadata": {},
   "outputs": [
    {
     "data": {
      "image/png": "[encoded data removed]",
      "text/plain": [
       "<Figure size 1080x288 with 1 Axes>"
      ]
     },
     "metadata": {
      "needs_background": "light"
     },
     "output_type": "display_data"
    }
   ],
   "source": [
    "plt.figure(figsize=(15,4))\n",
    "sns.histplot(data=df_all, x=\"referral_date\");\n",
    "# interesting: many referrals around 2021-07"
   ]
  },
  {
   "cell_type": "code",
   "execution_count": 127,
   "id": "583f4bd5",
   "metadata": {},
   "outputs": [
    {
     "data": {
      "text/html": [
       "<div>\n",
       "<style scoped>\n",
       "    .dataframe tbody tr th:only-of-type {\n",
       "        vertical-align: middle;\n",
       "    }\n",
       "\n",
       "    .dataframe tbody tr th {\n",
       "        vertical-align: top;\n",
       "    }\n",
       "\n",
       "    .dataframe thead th {\n",
       "        text-align: right;\n",
       "    }\n",
       "</style>\n",
       "<table border=\"1\" class=\"dataframe\">\n",
       "  <thead>\n",
       "    <tr style=\"text-align: right;\">\n",
       "      <th></th>\n",
       "      <th>referral_date</th>\n",
       "      <th>referrer_customer_id</th>\n",
       "      <th>sign_up_customer_id</th>\n",
       "      <th>referrer_sign_up_date</th>\n",
       "      <th>referrer_sign_up_channel</th>\n",
       "      <th>duration_before_referal</th>\n",
       "      <th>days_before_referal</th>\n",
       "      <th>referral_month</th>\n",
       "      <th>referral_day</th>\n",
       "      <th>referral_dayofweek</th>\n",
       "    </tr>\n",
       "  </thead>\n",
       "  <tbody>\n",
       "    <tr>\n",
       "      <th>0</th>\n",
       "      <td>2021-07-18</td>\n",
       "      <td>795</td>\n",
       "      <td>1771</td>\n",
       "      <td>2021-03-03</td>\n",
       "      <td>Price Comparison Website</td>\n",
       "      <td>137 days</td>\n",
       "      <td>137.0</td>\n",
       "      <td>7</td>\n",
       "      <td>18</td>\n",
       "      <td>6</td>\n",
       "    </tr>\n",
       "    <tr>\n",
       "      <th>1</th>\n",
       "      <td>2021-04-12</td>\n",
       "      <td>577</td>\n",
       "      <td>1510</td>\n",
       "      <td>2021-03-28</td>\n",
       "      <td>Price Comparison Website</td>\n",
       "      <td>15 days</td>\n",
       "      <td>15.0</td>\n",
       "      <td>4</td>\n",
       "      <td>12</td>\n",
       "      <td>0</td>\n",
       "    </tr>\n",
       "    <tr>\n",
       "      <th>2</th>\n",
       "      <td>2021-07-07</td>\n",
       "      <td>868</td>\n",
       "      <td>1858</td>\n",
       "      <td>2021-03-07</td>\n",
       "      <td>Bulb Website</td>\n",
       "      <td>122 days</td>\n",
       "      <td>122.0</td>\n",
       "      <td>7</td>\n",
       "      <td>7</td>\n",
       "      <td>2</td>\n",
       "    </tr>\n",
       "    <tr>\n",
       "      <th>3</th>\n",
       "      <td>2021-10-25</td>\n",
       "      <td>801</td>\n",
       "      <td>1778</td>\n",
       "      <td>2021-04-30</td>\n",
       "      <td>Referral</td>\n",
       "      <td>178 days</td>\n",
       "      <td>178.0</td>\n",
       "      <td>10</td>\n",
       "      <td>25</td>\n",
       "      <td>0</td>\n",
       "    </tr>\n",
       "    <tr>\n",
       "      <th>4</th>\n",
       "      <td>2021-08-15</td>\n",
       "      <td>690</td>\n",
       "      <td>1637</td>\n",
       "      <td>2021-07-29</td>\n",
       "      <td>Price Comparison Website</td>\n",
       "      <td>17 days</td>\n",
       "      <td>17.0</td>\n",
       "      <td>8</td>\n",
       "      <td>15</td>\n",
       "      <td>6</td>\n",
       "    </tr>\n",
       "  </tbody>\n",
       "</table>\n",
       "</div>"
      ],
      "text/plain": [
       "  referral_date  referrer_customer_id  sign_up_customer_id  \\\n",
       "0    2021-07-18                   795                 1771   \n",
       "1    2021-04-12                   577                 1510   \n",
       "2    2021-07-07                   868                 1858   \n",
       "3    2021-10-25                   801                 1778   \n",
       "4    2021-08-15                   690                 1637   \n",
       "\n",
       "  referrer_sign_up_date  referrer_sign_up_channel duration_before_referal  \\\n",
       "0            2021-03-03  Price Comparison Website                137 days   \n",
       "1            2021-03-28  Price Comparison Website                 15 days   \n",
       "2            2021-03-07              Bulb Website                122 days   \n",
       "3            2021-04-30                  Referral                178 days   \n",
       "4            2021-07-29  Price Comparison Website                 17 days   \n",
       "\n",
       "   days_before_referal  referral_month  referral_day  referral_dayofweek  \n",
       "0                137.0               7            18                   6  \n",
       "1                 15.0               4            12                   0  \n",
       "2                122.0               7             7                   2  \n",
       "3                178.0              10            25                   0  \n",
       "4                 17.0               8            15                   6  "
      ]
     },
     "execution_count": 127,
     "metadata": {},
     "output_type": "execute_result"
    }
   ],
   "source": [
    "df_all[\"referral_month\"] = df_all[\"referral_date\"].dt.month\n",
    "df_all[\"referral_day\"] = df_all[\"referral_date\"].dt.day\n",
    "df_all[\"referral_dayofweek\"] = df_all[\"referral_date\"].dt.dayofweek\n",
    "df_all.head()"
   ]
  },
  {
   "cell_type": "code",
   "execution_count": 126,
   "id": "e5a4bf35",
   "metadata": {},
   "outputs": [
    {
     "data": {
      "image/png": "[encoded data removed]",
      "text/plain": [
       "<Figure size 1080x288 with 1 Axes>"
      ]
     },
     "metadata": {
      "needs_background": "light"
     },
     "output_type": "display_data"
    }
   ],
   "source": [
    "plt.figure(figsize=(15,4))\n",
    "sns.histplot(data=df_all, x=\"referral_day\", bins=31);"
   ]
  },
  {
   "cell_type": "code",
   "execution_count": 129,
   "id": "99ab584d",
   "metadata": {},
   "outputs": [
    {
     "data": {
      "image/png": "[encoded data removed]",
      "text/plain": [
       "<Figure size 1080x288 with 1 Axes>"
      ]
     },
     "metadata": {
      "needs_background": "light"
     },
     "output_type": "display_data"
    }
   ],
   "source": [
    "plt.figure(figsize=(15,4))\n",
    "sns.histplot(data=df_all, x=\"referral_dayofweek\", bins=7);"
   ]
  },
  {
   "cell_type": "code",
   "execution_count": 130,
   "id": "2b62b693",
   "metadata": {},
   "outputs": [],
   "source": [
    "# My answer: members don't have a prefered time of the year to refer\n",
    "# I'd ask around to know what happened in July 2021, was there a referal campain?"
   ]
  },
  {
   "cell_type": "code",
   "execution_count": 131,
   "id": "54c1f98b",
   "metadata": {},
   "outputs": [
    {
     "data": {
      "image/png": "[encoded data removed]",
      "text/plain": [
       "<Figure size 1080x288 with 1 Axes>"
      ]
     },
     "metadata": {
      "needs_background": "light"
     },
     "output_type": "display_data"
    }
   ],
   "source": [
    "plt.figure(figsize=(15,4))\n",
    "sns.histplot(data=df_all, x=\"days_before_referal\");\n",
    "# looks like people refer others as soon as they sign up"
   ]
  },
  {
   "cell_type": "code",
   "execution_count": 163,
   "id": "d3e8c75b",
   "metadata": {},
   "outputs": [
    {
     "data": {
      "text/html": [
       "<div>\n",
       "<style scoped>\n",
       "    .dataframe tbody tr th:only-of-type {\n",
       "        vertical-align: middle;\n",
       "    }\n",
       "\n",
       "    .dataframe tbody tr th {\n",
       "        vertical-align: top;\n",
       "    }\n",
       "\n",
       "    .dataframe thead th {\n",
       "        text-align: right;\n",
       "    }\n",
       "</style>\n",
       "<table border=\"1\" class=\"dataframe\">\n",
       "  <thead>\n",
       "    <tr style=\"text-align: right;\">\n",
       "      <th></th>\n",
       "      <th>referrer_customer_id</th>\n",
       "      <th>count</th>\n",
       "    </tr>\n",
       "  </thead>\n",
       "  <tbody>\n",
       "    <tr>\n",
       "      <th>8</th>\n",
       "      <td>8</td>\n",
       "      <td>34</td>\n",
       "    </tr>\n",
       "    <tr>\n",
       "      <th>6</th>\n",
       "      <td>6</td>\n",
       "      <td>11</td>\n",
       "    </tr>\n",
       "    <tr>\n",
       "      <th>36</th>\n",
       "      <td>36</td>\n",
       "      <td>9</td>\n",
       "    </tr>\n",
       "    <tr>\n",
       "      <th>10</th>\n",
       "      <td>10</td>\n",
       "      <td>9</td>\n",
       "    </tr>\n",
       "    <tr>\n",
       "      <th>37</th>\n",
       "      <td>37</td>\n",
       "      <td>8</td>\n",
       "    </tr>\n",
       "    <tr>\n",
       "      <th>54</th>\n",
       "      <td>54</td>\n",
       "      <td>7</td>\n",
       "    </tr>\n",
       "    <tr>\n",
       "      <th>214</th>\n",
       "      <td>214</td>\n",
       "      <td>6</td>\n",
       "    </tr>\n",
       "    <tr>\n",
       "      <th>117</th>\n",
       "      <td>117</td>\n",
       "      <td>6</td>\n",
       "    </tr>\n",
       "    <tr>\n",
       "      <th>133</th>\n",
       "      <td>133</td>\n",
       "      <td>5</td>\n",
       "    </tr>\n",
       "    <tr>\n",
       "      <th>332</th>\n",
       "      <td>332</td>\n",
       "      <td>4</td>\n",
       "    </tr>\n",
       "  </tbody>\n",
       "</table>\n",
       "</div>"
      ],
      "text/plain": [
       "     referrer_customer_id  count\n",
       "8                       8     34\n",
       "6                       6     11\n",
       "36                     36      9\n",
       "10                     10      9\n",
       "37                     37      8\n",
       "54                     54      7\n",
       "214                   214      6\n",
       "117                   117      6\n",
       "133                   133      5\n",
       "332                   332      4"
      ]
     },
     "execution_count": 163,
     "metadata": {},
     "output_type": "execute_result"
    }
   ],
   "source": [
    "# let's see how many referral each user gave\n",
    "# let's focus on the top 10 referrers\n",
    "df_referrals_count.head(10)"
   ]
  },
  {
   "cell_type": "code",
   "execution_count": 164,
   "id": "0c8eec38",
   "metadata": {},
   "outputs": [
    {
     "data": {
      "text/plain": [
       "[8, 6, 36, 10, 37, 54, 214, 117, 133, 332]"
      ]
     },
     "execution_count": 164,
     "metadata": {},
     "output_type": "execute_result"
    }
   ],
   "source": [
    "top10_ids = df_referrals_count.head(10)[\"referrer_customer_id\"].to_list()\n",
    "top10_ids"
   ]
  },
  {
   "cell_type": "code",
   "execution_count": 165,
   "id": "c8a69116",
   "metadata": {},
   "outputs": [
    {
     "data": {
      "text/html": [
       "<div>\n",
       "<style scoped>\n",
       "    .dataframe tbody tr th:only-of-type {\n",
       "        vertical-align: middle;\n",
       "    }\n",
       "\n",
       "    .dataframe tbody tr th {\n",
       "        vertical-align: top;\n",
       "    }\n",
       "\n",
       "    .dataframe thead th {\n",
       "        text-align: right;\n",
       "    }\n",
       "</style>\n",
       "<table border=\"1\" class=\"dataframe\">\n",
       "  <thead>\n",
       "    <tr style=\"text-align: right;\">\n",
       "      <th></th>\n",
       "      <th>referral_date</th>\n",
       "      <th>referrer_customer_id</th>\n",
       "      <th>sign_up_customer_id</th>\n",
       "      <th>referrer_sign_up_date</th>\n",
       "      <th>referrer_sign_up_channel</th>\n",
       "      <th>duration_before_referal</th>\n",
       "      <th>days_before_referal</th>\n",
       "      <th>referral_month</th>\n",
       "      <th>referral_day</th>\n",
       "      <th>referral_dayofweek</th>\n",
       "    </tr>\n",
       "  </thead>\n",
       "  <tbody>\n",
       "    <tr>\n",
       "      <th>9</th>\n",
       "      <td>2021-06-30</td>\n",
       "      <td>37</td>\n",
       "      <td>975</td>\n",
       "      <td>2021-03-14</td>\n",
       "      <td>Referral</td>\n",
       "      <td>108 days</td>\n",
       "      <td>108.0</td>\n",
       "      <td>6</td>\n",
       "      <td>30</td>\n",
       "      <td>2</td>\n",
       "    </tr>\n",
       "    <tr>\n",
       "      <th>18</th>\n",
       "      <td>2021-03-14</td>\n",
       "      <td>54</td>\n",
       "      <td>1167</td>\n",
       "      <td>2020-10-11</td>\n",
       "      <td>Referral</td>\n",
       "      <td>154 days</td>\n",
       "      <td>154.0</td>\n",
       "      <td>3</td>\n",
       "      <td>14</td>\n",
       "      <td>6</td>\n",
       "    </tr>\n",
       "    <tr>\n",
       "      <th>25</th>\n",
       "      <td>2021-06-25</td>\n",
       "      <td>10</td>\n",
       "      <td>425</td>\n",
       "      <td>2021-04-15</td>\n",
       "      <td>Referral</td>\n",
       "      <td>71 days</td>\n",
       "      <td>71.0</td>\n",
       "      <td>6</td>\n",
       "      <td>25</td>\n",
       "      <td>4</td>\n",
       "    </tr>\n",
       "    <tr>\n",
       "      <th>39</th>\n",
       "      <td>2021-11-17</td>\n",
       "      <td>332</td>\n",
       "      <td>1843</td>\n",
       "      <td>2021-07-18</td>\n",
       "      <td>Referral</td>\n",
       "      <td>122 days</td>\n",
       "      <td>122.0</td>\n",
       "      <td>11</td>\n",
       "      <td>17</td>\n",
       "      <td>2</td>\n",
       "    </tr>\n",
       "    <tr>\n",
       "      <th>49</th>\n",
       "      <td>2021-07-14</td>\n",
       "      <td>6</td>\n",
       "      <td>1034</td>\n",
       "      <td>2020-12-25</td>\n",
       "      <td>Referral</td>\n",
       "      <td>201 days</td>\n",
       "      <td>201.0</td>\n",
       "      <td>7</td>\n",
       "      <td>14</td>\n",
       "      <td>2</td>\n",
       "    </tr>\n",
       "    <tr>\n",
       "      <th>...</th>\n",
       "      <td>...</td>\n",
       "      <td>...</td>\n",
       "      <td>...</td>\n",
       "      <td>...</td>\n",
       "      <td>...</td>\n",
       "      <td>...</td>\n",
       "      <td>...</td>\n",
       "      <td>...</td>\n",
       "      <td>...</td>\n",
       "      <td>...</td>\n",
       "    </tr>\n",
       "    <tr>\n",
       "      <th>927</th>\n",
       "      <td>2021-04-10</td>\n",
       "      <td>6</td>\n",
       "      <td>875</td>\n",
       "      <td>2020-12-25</td>\n",
       "      <td>Referral</td>\n",
       "      <td>106 days</td>\n",
       "      <td>106.0</td>\n",
       "      <td>4</td>\n",
       "      <td>10</td>\n",
       "      <td>5</td>\n",
       "    </tr>\n",
       "    <tr>\n",
       "      <th>933</th>\n",
       "      <td>2021-05-09</td>\n",
       "      <td>214</td>\n",
       "      <td>1506</td>\n",
       "      <td>2020-07-19</td>\n",
       "      <td>Referral</td>\n",
       "      <td>294 days</td>\n",
       "      <td>294.0</td>\n",
       "      <td>5</td>\n",
       "      <td>9</td>\n",
       "      <td>6</td>\n",
       "    </tr>\n",
       "    <tr>\n",
       "      <th>976</th>\n",
       "      <td>2021-07-22</td>\n",
       "      <td>8</td>\n",
       "      <td>1199</td>\n",
       "      <td>2020-12-30</td>\n",
       "      <td>Bulb Website</td>\n",
       "      <td>204 days</td>\n",
       "      <td>204.0</td>\n",
       "      <td>7</td>\n",
       "      <td>22</td>\n",
       "      <td>3</td>\n",
       "    </tr>\n",
       "    <tr>\n",
       "      <th>978</th>\n",
       "      <td>2021-04-07</td>\n",
       "      <td>117</td>\n",
       "      <td>1640</td>\n",
       "      <td>2021-03-03</td>\n",
       "      <td>Referral</td>\n",
       "      <td>35 days</td>\n",
       "      <td>35.0</td>\n",
       "      <td>4</td>\n",
       "      <td>7</td>\n",
       "      <td>2</td>\n",
       "    </tr>\n",
       "    <tr>\n",
       "      <th>979</th>\n",
       "      <td>2021-06-03</td>\n",
       "      <td>8</td>\n",
       "      <td>1632</td>\n",
       "      <td>2020-12-30</td>\n",
       "      <td>Bulb Website</td>\n",
       "      <td>155 days</td>\n",
       "      <td>155.0</td>\n",
       "      <td>6</td>\n",
       "      <td>3</td>\n",
       "      <td>3</td>\n",
       "    </tr>\n",
       "  </tbody>\n",
       "</table>\n",
       "<p>99 rows × 10 columns</p>\n",
       "</div>"
      ],
      "text/plain": [
       "    referral_date  referrer_customer_id  sign_up_customer_id  \\\n",
       "9      2021-06-30                    37                  975   \n",
       "18     2021-03-14                    54                 1167   \n",
       "25     2021-06-25                    10                  425   \n",
       "39     2021-11-17                   332                 1843   \n",
       "49     2021-07-14                     6                 1034   \n",
       "..            ...                   ...                  ...   \n",
       "927    2021-04-10                     6                  875   \n",
       "933    2021-05-09                   214                 1506   \n",
       "976    2021-07-22                     8                 1199   \n",
       "978    2021-04-07                   117                 1640   \n",
       "979    2021-06-03                     8                 1632   \n",
       "\n",
       "    referrer_sign_up_date referrer_sign_up_channel duration_before_referal  \\\n",
       "9              2021-03-14                 Referral                108 days   \n",
       "18             2020-10-11                 Referral                154 days   \n",
       "25             2021-04-15                 Referral                 71 days   \n",
       "39             2021-07-18                 Referral                122 days   \n",
       "49             2020-12-25                 Referral                201 days   \n",
       "..                    ...                      ...                     ...   \n",
       "927            2020-12-25                 Referral                106 days   \n",
       "933            2020-07-19                 Referral                294 days   \n",
       "976            2020-12-30             Bulb Website                204 days   \n",
       "978            2021-03-03                 Referral                 35 days   \n",
       "979            2020-12-30             Bulb Website                155 days   \n",
       "\n",
       "     days_before_referal  referral_month  referral_day  referral_dayofweek  \n",
       "9                  108.0               6            30                   2  \n",
       "18                 154.0               3            14                   6  \n",
       "25                  71.0               6            25                   4  \n",
       "39                 122.0              11            17                   2  \n",
       "49                 201.0               7            14                   2  \n",
       "..                   ...             ...           ...                 ...  \n",
       "927                106.0               4            10                   5  \n",
       "933                294.0               5             9                   6  \n",
       "976                204.0               7            22                   3  \n",
       "978                 35.0               4             7                   2  \n",
       "979                155.0               6             3                   3  \n",
       "\n",
       "[99 rows x 10 columns]"
      ]
     },
     "execution_count": 165,
     "metadata": {},
     "output_type": "execute_result"
    }
   ],
   "source": [
    "def is_top10(id):\n",
    "    return id in top10_ids\n",
    "\n",
    "df_top = df_all[df_all[\"referrer_customer_id\"].apply(is_top10)]\n",
    "df_top"
   ]
  },
  {
   "cell_type": "code",
   "execution_count": 172,
   "id": "43da6e14",
   "metadata": {},
   "outputs": [
    {
     "data": {
      "image/png": "[encoded data removed]",
      "text/plain": [
       "<Figure size 1080x288 with 1 Axes>"
      ]
     },
     "metadata": {
      "needs_background": "light"
     },
     "output_type": "display_data"
    }
   ],
   "source": [
    "plt.figure(figsize=(15,4))\n",
    "sns.scatterplot(data=df_top, x=\"referrer_customer_id\", y=\"referral_date\");\n",
    "# the frequency at which people refer depends on people"
   ]
  },
  {
   "cell_type": "code",
   "execution_count": 173,
   "id": "7bea857f",
   "metadata": {},
   "outputs": [
    {
     "data": {
      "image/png": "[encoded data removed]",
      "text/plain": [
       "<Figure size 1080x288 with 1 Axes>"
      ]
     },
     "metadata": {
      "needs_background": "light"
     },
     "output_type": "display_data"
    }
   ],
   "source": [
    "plt.figure(figsize=(15,4))\n",
    "sns.scatterplot(data=df_top, x=\"referrer_customer_id\", y=\"days_before_referal\");\n",
    "# some people don't start refering immediatly, maybe they didn't know about the referal program"
   ]
  },
  {
   "cell_type": "code",
   "execution_count": 178,
   "id": "ff57ab04",
   "metadata": {},
   "outputs": [
    {
     "data": {
      "text/html": [
       "<div>\n",
       "<style scoped>\n",
       "    .dataframe tbody tr th:only-of-type {\n",
       "        vertical-align: middle;\n",
       "    }\n",
       "\n",
       "    .dataframe tbody tr th {\n",
       "        vertical-align: top;\n",
       "    }\n",
       "\n",
       "    .dataframe thead th {\n",
       "        text-align: right;\n",
       "    }\n",
       "</style>\n",
       "<table border=\"1\" class=\"dataframe\">\n",
       "  <thead>\n",
       "    <tr style=\"text-align: right;\">\n",
       "      <th></th>\n",
       "      <th>referral_date</th>\n",
       "      <th>referrer_customer_id</th>\n",
       "      <th>sign_up_customer_id</th>\n",
       "      <th>referrer_sign_up_date</th>\n",
       "      <th>referrer_sign_up_channel</th>\n",
       "      <th>duration_before_referal</th>\n",
       "      <th>days_before_referal</th>\n",
       "      <th>referral_month</th>\n",
       "      <th>referral_day</th>\n",
       "      <th>referral_dayofweek</th>\n",
       "    </tr>\n",
       "  </thead>\n",
       "  <tbody>\n",
       "    <tr>\n",
       "      <th>0</th>\n",
       "      <td>2021-07-18</td>\n",
       "      <td>795</td>\n",
       "      <td>1771</td>\n",
       "      <td>2021-03-03</td>\n",
       "      <td>Price Comparison Website</td>\n",
       "      <td>137 days</td>\n",
       "      <td>137.0</td>\n",
       "      <td>7</td>\n",
       "      <td>18</td>\n",
       "      <td>6</td>\n",
       "    </tr>\n",
       "    <tr>\n",
       "      <th>1</th>\n",
       "      <td>2021-04-12</td>\n",
       "      <td>577</td>\n",
       "      <td>1510</td>\n",
       "      <td>2021-03-28</td>\n",
       "      <td>Price Comparison Website</td>\n",
       "      <td>15 days</td>\n",
       "      <td>15.0</td>\n",
       "      <td>4</td>\n",
       "      <td>12</td>\n",
       "      <td>0</td>\n",
       "    </tr>\n",
       "    <tr>\n",
       "      <th>2</th>\n",
       "      <td>2021-07-07</td>\n",
       "      <td>868</td>\n",
       "      <td>1858</td>\n",
       "      <td>2021-03-07</td>\n",
       "      <td>Bulb Website</td>\n",
       "      <td>122 days</td>\n",
       "      <td>122.0</td>\n",
       "      <td>7</td>\n",
       "      <td>7</td>\n",
       "      <td>2</td>\n",
       "    </tr>\n",
       "    <tr>\n",
       "      <th>3</th>\n",
       "      <td>2021-10-25</td>\n",
       "      <td>801</td>\n",
       "      <td>1778</td>\n",
       "      <td>2021-04-30</td>\n",
       "      <td>Referral</td>\n",
       "      <td>178 days</td>\n",
       "      <td>178.0</td>\n",
       "      <td>10</td>\n",
       "      <td>25</td>\n",
       "      <td>0</td>\n",
       "    </tr>\n",
       "    <tr>\n",
       "      <th>4</th>\n",
       "      <td>2021-08-15</td>\n",
       "      <td>690</td>\n",
       "      <td>1637</td>\n",
       "      <td>2021-07-29</td>\n",
       "      <td>Price Comparison Website</td>\n",
       "      <td>17 days</td>\n",
       "      <td>17.0</td>\n",
       "      <td>8</td>\n",
       "      <td>15</td>\n",
       "      <td>6</td>\n",
       "    </tr>\n",
       "  </tbody>\n",
       "</table>\n",
       "</div>"
      ],
      "text/plain": [
       "  referral_date  referrer_customer_id  sign_up_customer_id  \\\n",
       "0    2021-07-18                   795                 1771   \n",
       "1    2021-04-12                   577                 1510   \n",
       "2    2021-07-07                   868                 1858   \n",
       "3    2021-10-25                   801                 1778   \n",
       "4    2021-08-15                   690                 1637   \n",
       "\n",
       "  referrer_sign_up_date  referrer_sign_up_channel duration_before_referal  \\\n",
       "0            2021-03-03  Price Comparison Website                137 days   \n",
       "1            2021-03-28  Price Comparison Website                 15 days   \n",
       "2            2021-03-07              Bulb Website                122 days   \n",
       "3            2021-04-30                  Referral                178 days   \n",
       "4            2021-07-29  Price Comparison Website                 17 days   \n",
       "\n",
       "   days_before_referal  referral_month  referral_day  referral_dayofweek  \n",
       "0                137.0               7            18                   6  \n",
       "1                 15.0               4            12                   0  \n",
       "2                122.0               7             7                   2  \n",
       "3                178.0              10            25                   0  \n",
       "4                 17.0               8            15                   6  "
      ]
     },
     "execution_count": 178,
     "metadata": {},
     "output_type": "execute_result"
    }
   ],
   "source": [
    "df_all.head()"
   ]
  },
  {
   "cell_type": "code",
   "execution_count": 182,
   "id": "a9bc0302",
   "metadata": {},
   "outputs": [
    {
     "data": {
      "text/html": [
       "<div>\n",
       "<style scoped>\n",
       "    .dataframe tbody tr th:only-of-type {\n",
       "        vertical-align: middle;\n",
       "    }\n",
       "\n",
       "    .dataframe tbody tr th {\n",
       "        vertical-align: top;\n",
       "    }\n",
       "\n",
       "    .dataframe thead th {\n",
       "        text-align: right;\n",
       "    }\n",
       "</style>\n",
       "<table border=\"1\" class=\"dataframe\">\n",
       "  <thead>\n",
       "    <tr style=\"text-align: right;\">\n",
       "      <th></th>\n",
       "      <th>referrer_customer_id</th>\n",
       "      <th>days_before_referal</th>\n",
       "    </tr>\n",
       "  </thead>\n",
       "  <tbody>\n",
       "    <tr>\n",
       "      <th>191</th>\n",
       "      <td>191</td>\n",
       "      <td>0.0</td>\n",
       "    </tr>\n",
       "    <tr>\n",
       "      <th>29</th>\n",
       "      <td>29</td>\n",
       "      <td>0.0</td>\n",
       "    </tr>\n",
       "    <tr>\n",
       "      <th>615</th>\n",
       "      <td>615</td>\n",
       "      <td>0.0</td>\n",
       "    </tr>\n",
       "    <tr>\n",
       "      <th>250</th>\n",
       "      <td>250</td>\n",
       "      <td>0.0</td>\n",
       "    </tr>\n",
       "    <tr>\n",
       "      <th>613</th>\n",
       "      <td>613</td>\n",
       "      <td>0.0</td>\n",
       "    </tr>\n",
       "  </tbody>\n",
       "</table>\n",
       "</div>"
      ],
      "text/plain": [
       "     referrer_customer_id  days_before_referal\n",
       "191                   191                  0.0\n",
       "29                     29                  0.0\n",
       "615                   615                  0.0\n",
       "250                   250                  0.0\n",
       "613                   613                  0.0"
      ]
     },
     "execution_count": 182,
     "metadata": {},
     "output_type": "execute_result"
    }
   ],
   "source": [
    "df_min_day = df_all.groupby(by=\"referrer_customer_id\", as_index=False).min()[[\"referrer_customer_id\", \"days_before_referal\"]]\n",
    "df_min_day.sort_values(\"days_before_referal\", ascending=True, inplace=True)\n",
    "df_min_day.head()"
   ]
  },
  {
   "cell_type": "code",
   "execution_count": 183,
   "id": "d5550ff3",
   "metadata": {},
   "outputs": [
    {
     "data": {
      "image/png": "[encoded data removed]",
      "text/plain": [
       "<Figure size 1080x288 with 1 Axes>"
      ]
     },
     "metadata": {
      "needs_background": "light"
     },
     "output_type": "display_data"
    }
   ],
   "source": [
    "plt.figure(figsize=(15,4))\n",
    "sns.histplot(data=df_min_day, x=\"days_before_referal\");\n",
    "# most people refer their friends immediately"
   ]
  },
  {
   "cell_type": "markdown",
   "id": "0c5856a9",
   "metadata": {},
   "source": [
    "## Does the channel members are acquired from​ ​ significantly​ ​ impact how they refer?"
   ]
  },
  {
   "cell_type": "code",
   "execution_count": 174,
   "id": "5af2c167",
   "metadata": {},
   "outputs": [
    {
     "data": {
      "image/png": "[encoded data removed]",
      "text/plain": [
       "<Figure size 1080x288 with 1 Axes>"
      ]
     },
     "metadata": {
      "needs_background": "light"
     },
     "output_type": "display_data"
    }
   ],
   "source": [
    "plt.figure(figsize=(15,4))\n",
    "sns.scatterplot(data=df_top, x=\"referrer_customer_id\", y=\"days_before_referal\", hue=\"referrer_sign_up_channel\");"
   ]
  },
  {
   "cell_type": "code",
   "execution_count": 177,
   "id": "08694d85",
   "metadata": {},
   "outputs": [
    {
     "data": {
      "image/png": "[encoded data removed]",
      "text/plain": [
       "<Figure size 1080x288 with 1 Axes>"
      ]
     },
     "metadata": {
      "needs_background": "light"
     },
     "output_type": "display_data"
    }
   ],
   "source": [
    "plt.figure(figsize=(15,4))\n",
    "sns.histplot(data=df_all, x=\"days_before_referal\", hue=\"referrer_sign_up_channel\");\n",
    "# it doesn't matter which channel they signed up from"
   ]
  },
  {
   "cell_type": "code",
   "execution_count": 193,
   "id": "05f91055",
   "metadata": {},
   "outputs": [
    {
     "data": {
      "text/html": [
       "<div>\n",
       "<style scoped>\n",
       "    .dataframe tbody tr th:only-of-type {\n",
       "        vertical-align: middle;\n",
       "    }\n",
       "\n",
       "    .dataframe tbody tr th {\n",
       "        vertical-align: top;\n",
       "    }\n",
       "\n",
       "    .dataframe thead th {\n",
       "        text-align: right;\n",
       "    }\n",
       "</style>\n",
       "<table border=\"1\" class=\"dataframe\">\n",
       "  <thead>\n",
       "    <tr style=\"text-align: right;\">\n",
       "      <th></th>\n",
       "      <th>referral_date</th>\n",
       "      <th>referrer_customer_id</th>\n",
       "      <th>sign_up_customer_id</th>\n",
       "      <th>referrer_sign_up_date</th>\n",
       "      <th>referrer_sign_up_channel</th>\n",
       "      <th>duration_before_referal</th>\n",
       "      <th>days_before_referal</th>\n",
       "      <th>referral_month</th>\n",
       "      <th>referral_day</th>\n",
       "      <th>referral_dayofweek</th>\n",
       "    </tr>\n",
       "  </thead>\n",
       "  <tbody>\n",
       "    <tr>\n",
       "      <th>44</th>\n",
       "      <td>2021-10-25</td>\n",
       "      <td>383</td>\n",
       "      <td>1284</td>\n",
       "      <td>2021-10-25</td>\n",
       "      <td>Bulb Website</td>\n",
       "      <td>0 days</td>\n",
       "      <td>0.0</td>\n",
       "      <td>10</td>\n",
       "      <td>25</td>\n",
       "      <td>0</td>\n",
       "    </tr>\n",
       "    <tr>\n",
       "      <th>546</th>\n",
       "      <td>2021-07-24</td>\n",
       "      <td>225</td>\n",
       "      <td>1112</td>\n",
       "      <td>2021-07-24</td>\n",
       "      <td>Bulb Website</td>\n",
       "      <td>0 days</td>\n",
       "      <td>0.0</td>\n",
       "      <td>7</td>\n",
       "      <td>24</td>\n",
       "      <td>5</td>\n",
       "    </tr>\n",
       "    <tr>\n",
       "      <th>862</th>\n",
       "      <td>2021-12-29</td>\n",
       "      <td>604</td>\n",
       "      <td>1540</td>\n",
       "      <td>2021-12-29</td>\n",
       "      <td>Bulb Website</td>\n",
       "      <td>0 days</td>\n",
       "      <td>0.0</td>\n",
       "      <td>12</td>\n",
       "      <td>29</td>\n",
       "      <td>2</td>\n",
       "    </tr>\n",
       "    <tr>\n",
       "      <th>138</th>\n",
       "      <td>2021-08-23</td>\n",
       "      <td>280</td>\n",
       "      <td>1169</td>\n",
       "      <td>2021-08-23</td>\n",
       "      <td>Bulb Website</td>\n",
       "      <td>0 days</td>\n",
       "      <td>0.0</td>\n",
       "      <td>8</td>\n",
       "      <td>23</td>\n",
       "      <td>0</td>\n",
       "    </tr>\n",
       "    <tr>\n",
       "      <th>366</th>\n",
       "      <td>2021-10-30</td>\n",
       "      <td>29</td>\n",
       "      <td>901</td>\n",
       "      <td>2021-10-30</td>\n",
       "      <td>Bulb Website</td>\n",
       "      <td>0 days</td>\n",
       "      <td>0.0</td>\n",
       "      <td>10</td>\n",
       "      <td>30</td>\n",
       "      <td>5</td>\n",
       "    </tr>\n",
       "    <tr>\n",
       "      <th>845</th>\n",
       "      <td>2021-10-13</td>\n",
       "      <td>348</td>\n",
       "      <td>1245</td>\n",
       "      <td>2021-10-13</td>\n",
       "      <td>Bulb Website</td>\n",
       "      <td>0 days</td>\n",
       "      <td>0.0</td>\n",
       "      <td>10</td>\n",
       "      <td>13</td>\n",
       "      <td>2</td>\n",
       "    </tr>\n",
       "    <tr>\n",
       "      <th>696</th>\n",
       "      <td>2021-08-02</td>\n",
       "      <td>43</td>\n",
       "      <td>916</td>\n",
       "      <td>2021-08-02</td>\n",
       "      <td>Bulb Website</td>\n",
       "      <td>0 days</td>\n",
       "      <td>0.0</td>\n",
       "      <td>8</td>\n",
       "      <td>2</td>\n",
       "      <td>0</td>\n",
       "    </tr>\n",
       "    <tr>\n",
       "      <th>19</th>\n",
       "      <td>2021-05-30</td>\n",
       "      <td>191</td>\n",
       "      <td>1071</td>\n",
       "      <td>2021-05-30</td>\n",
       "      <td>Price Comparison Website</td>\n",
       "      <td>0 days</td>\n",
       "      <td>0.0</td>\n",
       "      <td>5</td>\n",
       "      <td>30</td>\n",
       "      <td>6</td>\n",
       "    </tr>\n",
       "    <tr>\n",
       "      <th>252</th>\n",
       "      <td>2021-01-13</td>\n",
       "      <td>761</td>\n",
       "      <td>1729</td>\n",
       "      <td>2021-01-13</td>\n",
       "      <td>Bulb Website</td>\n",
       "      <td>0 days</td>\n",
       "      <td>0.0</td>\n",
       "      <td>1</td>\n",
       "      <td>13</td>\n",
       "      <td>2</td>\n",
       "    </tr>\n",
       "    <tr>\n",
       "      <th>157</th>\n",
       "      <td>2021-07-21</td>\n",
       "      <td>802</td>\n",
       "      <td>1779</td>\n",
       "      <td>2021-07-20</td>\n",
       "      <td>Price Comparison Website</td>\n",
       "      <td>1 days</td>\n",
       "      <td>1.0</td>\n",
       "      <td>7</td>\n",
       "      <td>21</td>\n",
       "      <td>2</td>\n",
       "    </tr>\n",
       "    <tr>\n",
       "      <th>32</th>\n",
       "      <td>2021-07-17</td>\n",
       "      <td>681</td>\n",
       "      <td>1627</td>\n",
       "      <td>2021-07-16</td>\n",
       "      <td>Bulb Website</td>\n",
       "      <td>1 days</td>\n",
       "      <td>1.0</td>\n",
       "      <td>7</td>\n",
       "      <td>17</td>\n",
       "      <td>5</td>\n",
       "    </tr>\n",
       "    <tr>\n",
       "      <th>382</th>\n",
       "      <td>2021-05-23</td>\n",
       "      <td>490</td>\n",
       "      <td>1408</td>\n",
       "      <td>2021-05-22</td>\n",
       "      <td>Bulb Website</td>\n",
       "      <td>1 days</td>\n",
       "      <td>1.0</td>\n",
       "      <td>5</td>\n",
       "      <td>23</td>\n",
       "      <td>6</td>\n",
       "    </tr>\n",
       "    <tr>\n",
       "      <th>849</th>\n",
       "      <td>2021-04-15</td>\n",
       "      <td>308</td>\n",
       "      <td>1201</td>\n",
       "      <td>2021-04-14</td>\n",
       "      <td>Price Comparison Website</td>\n",
       "      <td>1 days</td>\n",
       "      <td>1.0</td>\n",
       "      <td>4</td>\n",
       "      <td>15</td>\n",
       "      <td>3</td>\n",
       "    </tr>\n",
       "    <tr>\n",
       "      <th>193</th>\n",
       "      <td>2021-04-29</td>\n",
       "      <td>791</td>\n",
       "      <td>1765</td>\n",
       "      <td>2021-04-27</td>\n",
       "      <td>Price Comparison Website</td>\n",
       "      <td>2 days</td>\n",
       "      <td>2.0</td>\n",
       "      <td>4</td>\n",
       "      <td>29</td>\n",
       "      <td>3</td>\n",
       "    </tr>\n",
       "    <tr>\n",
       "      <th>937</th>\n",
       "      <td>2020-10-17</td>\n",
       "      <td>538</td>\n",
       "      <td>1468</td>\n",
       "      <td>2020-10-15</td>\n",
       "      <td>Bulb Website</td>\n",
       "      <td>2 days</td>\n",
       "      <td>2.0</td>\n",
       "      <td>10</td>\n",
       "      <td>17</td>\n",
       "      <td>5</td>\n",
       "    </tr>\n",
       "    <tr>\n",
       "      <th>522</th>\n",
       "      <td>2021-03-24</td>\n",
       "      <td>564</td>\n",
       "      <td>1496</td>\n",
       "      <td>2021-03-20</td>\n",
       "      <td>Price Comparison Website</td>\n",
       "      <td>4 days</td>\n",
       "      <td>4.0</td>\n",
       "      <td>3</td>\n",
       "      <td>24</td>\n",
       "      <td>2</td>\n",
       "    </tr>\n",
       "    <tr>\n",
       "      <th>756</th>\n",
       "      <td>2021-08-10</td>\n",
       "      <td>652</td>\n",
       "      <td>1593</td>\n",
       "      <td>2021-08-05</td>\n",
       "      <td>Bulb Website</td>\n",
       "      <td>5 days</td>\n",
       "      <td>5.0</td>\n",
       "      <td>8</td>\n",
       "      <td>10</td>\n",
       "      <td>1</td>\n",
       "    </tr>\n",
       "    <tr>\n",
       "      <th>671</th>\n",
       "      <td>2021-04-30</td>\n",
       "      <td>560</td>\n",
       "      <td>1492</td>\n",
       "      <td>2021-04-25</td>\n",
       "      <td>Price Comparison Website</td>\n",
       "      <td>5 days</td>\n",
       "      <td>5.0</td>\n",
       "      <td>4</td>\n",
       "      <td>30</td>\n",
       "      <td>4</td>\n",
       "    </tr>\n",
       "    <tr>\n",
       "      <th>872</th>\n",
       "      <td>2021-07-26</td>\n",
       "      <td>630</td>\n",
       "      <td>1567</td>\n",
       "      <td>2021-07-21</td>\n",
       "      <td>Bulb Website</td>\n",
       "      <td>5 days</td>\n",
       "      <td>5.0</td>\n",
       "      <td>7</td>\n",
       "      <td>26</td>\n",
       "      <td>0</td>\n",
       "    </tr>\n",
       "    <tr>\n",
       "      <th>316</th>\n",
       "      <td>2021-10-16</td>\n",
       "      <td>743</td>\n",
       "      <td>1707</td>\n",
       "      <td>2021-10-11</td>\n",
       "      <td>Price Comparison Website</td>\n",
       "      <td>5 days</td>\n",
       "      <td>5.0</td>\n",
       "      <td>10</td>\n",
       "      <td>16</td>\n",
       "      <td>5</td>\n",
       "    </tr>\n",
       "    <tr>\n",
       "      <th>364</th>\n",
       "      <td>2021-05-11</td>\n",
       "      <td>203</td>\n",
       "      <td>1087</td>\n",
       "      <td>2021-05-06</td>\n",
       "      <td>Bulb Website</td>\n",
       "      <td>5 days</td>\n",
       "      <td>5.0</td>\n",
       "      <td>5</td>\n",
       "      <td>11</td>\n",
       "      <td>1</td>\n",
       "    </tr>\n",
       "    <tr>\n",
       "      <th>169</th>\n",
       "      <td>2021-07-20</td>\n",
       "      <td>56</td>\n",
       "      <td>929</td>\n",
       "      <td>2021-07-15</td>\n",
       "      <td>Bulb Website</td>\n",
       "      <td>5 days</td>\n",
       "      <td>5.0</td>\n",
       "      <td>7</td>\n",
       "      <td>20</td>\n",
       "      <td>1</td>\n",
       "    </tr>\n",
       "    <tr>\n",
       "      <th>928</th>\n",
       "      <td>2021-09-11</td>\n",
       "      <td>159</td>\n",
       "      <td>1035</td>\n",
       "      <td>2021-09-06</td>\n",
       "      <td>Bulb Website</td>\n",
       "      <td>5 days</td>\n",
       "      <td>5.0</td>\n",
       "      <td>9</td>\n",
       "      <td>11</td>\n",
       "      <td>5</td>\n",
       "    </tr>\n",
       "    <tr>\n",
       "      <th>428</th>\n",
       "      <td>2021-01-18</td>\n",
       "      <td>682</td>\n",
       "      <td>1628</td>\n",
       "      <td>2021-01-13</td>\n",
       "      <td>Price Comparison Website</td>\n",
       "      <td>5 days</td>\n",
       "      <td>5.0</td>\n",
       "      <td>1</td>\n",
       "      <td>18</td>\n",
       "      <td>0</td>\n",
       "    </tr>\n",
       "    <tr>\n",
       "      <th>834</th>\n",
       "      <td>2021-05-08</td>\n",
       "      <td>838</td>\n",
       "      <td>1824</td>\n",
       "      <td>2021-05-02</td>\n",
       "      <td>Bulb Website</td>\n",
       "      <td>6 days</td>\n",
       "      <td>6.0</td>\n",
       "      <td>5</td>\n",
       "      <td>8</td>\n",
       "      <td>5</td>\n",
       "    </tr>\n",
       "    <tr>\n",
       "      <th>445</th>\n",
       "      <td>2021-05-01</td>\n",
       "      <td>79</td>\n",
       "      <td>953</td>\n",
       "      <td>2021-04-25</td>\n",
       "      <td>Bulb Website</td>\n",
       "      <td>6 days</td>\n",
       "      <td>6.0</td>\n",
       "      <td>5</td>\n",
       "      <td>1</td>\n",
       "      <td>5</td>\n",
       "    </tr>\n",
       "    <tr>\n",
       "      <th>694</th>\n",
       "      <td>2021-12-07</td>\n",
       "      <td>515</td>\n",
       "      <td>1438</td>\n",
       "      <td>2021-12-01</td>\n",
       "      <td>Bulb Website</td>\n",
       "      <td>6 days</td>\n",
       "      <td>6.0</td>\n",
       "      <td>12</td>\n",
       "      <td>7</td>\n",
       "      <td>1</td>\n",
       "    </tr>\n",
       "    <tr>\n",
       "      <th>812</th>\n",
       "      <td>2021-05-29</td>\n",
       "      <td>824</td>\n",
       "      <td>1807</td>\n",
       "      <td>2021-05-23</td>\n",
       "      <td>Bulb Website</td>\n",
       "      <td>6 days</td>\n",
       "      <td>6.0</td>\n",
       "      <td>5</td>\n",
       "      <td>29</td>\n",
       "      <td>5</td>\n",
       "    </tr>\n",
       "    <tr>\n",
       "      <th>507</th>\n",
       "      <td>2021-05-07</td>\n",
       "      <td>821</td>\n",
       "      <td>1803</td>\n",
       "      <td>2021-04-30</td>\n",
       "      <td>Price Comparison Website</td>\n",
       "      <td>7 days</td>\n",
       "      <td>7.0</td>\n",
       "      <td>5</td>\n",
       "      <td>7</td>\n",
       "      <td>4</td>\n",
       "    </tr>\n",
       "    <tr>\n",
       "      <th>887</th>\n",
       "      <td>2021-07-23</td>\n",
       "      <td>160</td>\n",
       "      <td>1036</td>\n",
       "      <td>2021-07-16</td>\n",
       "      <td>Price Comparison Website</td>\n",
       "      <td>7 days</td>\n",
       "      <td>7.0</td>\n",
       "      <td>7</td>\n",
       "      <td>23</td>\n",
       "      <td>4</td>\n",
       "    </tr>\n",
       "  </tbody>\n",
       "</table>\n",
       "</div>"
      ],
      "text/plain": [
       "    referral_date  referrer_customer_id  sign_up_customer_id  \\\n",
       "44     2021-10-25                   383                 1284   \n",
       "546    2021-07-24                   225                 1112   \n",
       "862    2021-12-29                   604                 1540   \n",
       "138    2021-08-23                   280                 1169   \n",
       "366    2021-10-30                    29                  901   \n",
       "845    2021-10-13                   348                 1245   \n",
       "696    2021-08-02                    43                  916   \n",
       "19     2021-05-30                   191                 1071   \n",
       "252    2021-01-13                   761                 1729   \n",
       "157    2021-07-21                   802                 1779   \n",
       "32     2021-07-17                   681                 1627   \n",
       "382    2021-05-23                   490                 1408   \n",
       "849    2021-04-15                   308                 1201   \n",
       "193    2021-04-29                   791                 1765   \n",
       "937    2020-10-17                   538                 1468   \n",
       "522    2021-03-24                   564                 1496   \n",
       "756    2021-08-10                   652                 1593   \n",
       "671    2021-04-30                   560                 1492   \n",
       "872    2021-07-26                   630                 1567   \n",
       "316    2021-10-16                   743                 1707   \n",
       "364    2021-05-11                   203                 1087   \n",
       "169    2021-07-20                    56                  929   \n",
       "928    2021-09-11                   159                 1035   \n",
       "428    2021-01-18                   682                 1628   \n",
       "834    2021-05-08                   838                 1824   \n",
       "445    2021-05-01                    79                  953   \n",
       "694    2021-12-07                   515                 1438   \n",
       "812    2021-05-29                   824                 1807   \n",
       "507    2021-05-07                   821                 1803   \n",
       "887    2021-07-23                   160                 1036   \n",
       "\n",
       "    referrer_sign_up_date  referrer_sign_up_channel duration_before_referal  \\\n",
       "44             2021-10-25              Bulb Website                  0 days   \n",
       "546            2021-07-24              Bulb Website                  0 days   \n",
       "862            2021-12-29              Bulb Website                  0 days   \n",
       "138            2021-08-23              Bulb Website                  0 days   \n",
       "366            2021-10-30              Bulb Website                  0 days   \n",
       "845            2021-10-13              Bulb Website                  0 days   \n",
       "696            2021-08-02              Bulb Website                  0 days   \n",
       "19             2021-05-30  Price Comparison Website                  0 days   \n",
       "252            2021-01-13              Bulb Website                  0 days   \n",
       "157            2021-07-20  Price Comparison Website                  1 days   \n",
       "32             2021-07-16              Bulb Website                  1 days   \n",
       "382            2021-05-22              Bulb Website                  1 days   \n",
       "849            2021-04-14  Price Comparison Website                  1 days   \n",
       "193            2021-04-27  Price Comparison Website                  2 days   \n",
       "937            2020-10-15              Bulb Website                  2 days   \n",
       "522            2021-03-20  Price Comparison Website                  4 days   \n",
       "756            2021-08-05              Bulb Website                  5 days   \n",
       "671            2021-04-25  Price Comparison Website                  5 days   \n",
       "872            2021-07-21              Bulb Website                  5 days   \n",
       "316            2021-10-11  Price Comparison Website                  5 days   \n",
       "364            2021-05-06              Bulb Website                  5 days   \n",
       "169            2021-07-15              Bulb Website                  5 days   \n",
       "928            2021-09-06              Bulb Website                  5 days   \n",
       "428            2021-01-13  Price Comparison Website                  5 days   \n",
       "834            2021-05-02              Bulb Website                  6 days   \n",
       "445            2021-04-25              Bulb Website                  6 days   \n",
       "694            2021-12-01              Bulb Website                  6 days   \n",
       "812            2021-05-23              Bulb Website                  6 days   \n",
       "507            2021-04-30  Price Comparison Website                  7 days   \n",
       "887            2021-07-16  Price Comparison Website                  7 days   \n",
       "\n",
       "     days_before_referal  referral_month  referral_day  referral_dayofweek  \n",
       "44                   0.0              10            25                   0  \n",
       "546                  0.0               7            24                   5  \n",
       "862                  0.0              12            29                   2  \n",
       "138                  0.0               8            23                   0  \n",
       "366                  0.0              10            30                   5  \n",
       "845                  0.0              10            13                   2  \n",
       "696                  0.0               8             2                   0  \n",
       "19                   0.0               5            30                   6  \n",
       "252                  0.0               1            13                   2  \n",
       "157                  1.0               7            21                   2  \n",
       "32                   1.0               7            17                   5  \n",
       "382                  1.0               5            23                   6  \n",
       "849                  1.0               4            15                   3  \n",
       "193                  2.0               4            29                   3  \n",
       "937                  2.0              10            17                   5  \n",
       "522                  4.0               3            24                   2  \n",
       "756                  5.0               8            10                   1  \n",
       "671                  5.0               4            30                   4  \n",
       "872                  5.0               7            26                   0  \n",
       "316                  5.0              10            16                   5  \n",
       "364                  5.0               5            11                   1  \n",
       "169                  5.0               7            20                   1  \n",
       "928                  5.0               9            11                   5  \n",
       "428                  5.0               1            18                   0  \n",
       "834                  6.0               5             8                   5  \n",
       "445                  6.0               5             1                   5  \n",
       "694                  6.0              12             7                   1  \n",
       "812                  6.0               5            29                   5  \n",
       "507                  7.0               5             7                   4  \n",
       "887                  7.0               7            23                   4  "
      ]
     },
     "execution_count": 193,
     "metadata": {},
     "output_type": "execute_result"
    }
   ],
   "source": [
    "mask = df_all[\"referrer_sign_up_channel\"] != \"Referral\"\n",
    "df_all[mask].sort_values(\"days_before_referal\").head(30)\n",
    "# people not comming from referal take more time to refer"
   ]
  },
  {
   "cell_type": "code",
   "execution_count": 196,
   "id": "e17be1a8",
   "metadata": {},
   "outputs": [
    {
     "data": {
      "image/png": "[encoded data removed]",
      "text/plain": [
       "<Figure size 1080x576 with 1 Axes>"
      ]
     },
     "metadata": {
      "needs_background": "light"
     },
     "output_type": "display_data"
    }
   ],
   "source": [
    "plt.figure(figsize=(15,8))\n",
    "sns.ecdfplot(data=df_all, x=\"days_before_referal\", hue=\"referrer_sign_up_channel\");\n",
    "# people not comming from referal take more time to refer"
   ]
  },
  {
   "cell_type": "markdown",
   "id": "9aeed3c7",
   "metadata": {},
   "source": [
    "## We can send an email to members to invite them to refer their friends. To whom and when?"
   ]
  },
  {
   "cell_type": "code",
   "execution_count": 197,
   "id": "e7fbc843",
   "metadata": {},
   "outputs": [],
   "source": [
    "# 1) to the people not coming from referal, immediately after they sign up\n",
    "# 2) to all people who didn't refer a friend yet after 90 days"
   ]
  }
 ],
 "metadata": {
  "kernelspec": {
   "display_name": "Python 3 (ipykernel)",
   "language": "python",
   "name": "python3"
  },
  "language_info": {
   "codemirror_mode": {
    "name": "ipython",
    "version": 3
   },
   "file_extension": ".py",
   "mimetype": "text/x-python",
   "name": "python",
   "nbconvert_exporter": "python",
   "pygments_lexer": "ipython3",
   "version": "3.8.12"
  },
  "toc": {
   "base_numbering": 1,
   "nav_menu": {},
   "number_sections": true,
   "sideBar": true,
   "skip_h1_title": false,
   "title_cell": "Table of Contents",
   "title_sidebar": "Contents",
   "toc_cell": false,
   "toc_position": {},
   "toc_section_display": true,
   "toc_window_display": false
  },
  "varInspector": {
   "cols": {
    "lenName": 16,
    "lenType": 16,
    "lenVar": 40
   },
   "kernels_config": {
    "python": {
     "delete_cmd_postfix": "",
     "delete_cmd_prefix": "del ",
     "library": "var_list.py",
     "varRefreshCmd": "print(var_dic_list())"
    },
    "r": {
     "delete_cmd_postfix": ") ",
     "delete_cmd_prefix": "rm(",
     "library": "var_list.r",
     "varRefreshCmd": "cat(var_dic_list()) "
    }
   },
   "types_to_exclude": [
    "module",
    "function",
    "builtin_function_or_method",
    "instance",
    "_Feature"
   ],
   "window_display": false
  }
 },
 "nbformat": 4,
 "nbformat_minor": 5
}
